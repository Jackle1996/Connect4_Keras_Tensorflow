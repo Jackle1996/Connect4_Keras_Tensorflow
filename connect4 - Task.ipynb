{
 "cells": [
  {
   "cell_type": "code",
   "execution_count": null,
   "metadata": {},
   "outputs": [],
   "source": [
    "import numpy as np\n",
    "import keras\n",
    "import matplotlib.pyplot as plt\n",
    "\n",
    "import pandas as pd\n",
    "from pathlib import Path"
   ]
  },
  {
   "attachments": {
    "image.png": {
     "image/png": "[encoded data removed]"
    }
   },
   "cell_type": "markdown",
   "metadata": {},
   "source": [
    "### Data Info\n",
    "\n",
    "The data is made up of 43 columns and 376,641 rows (first is the header).\n",
    "\n",
    "Each row is a finished game of connect-4.\n",
    "\n",
    "![image.png](attachment:image.png)\n",
    "\n",
    "Columns 1-42 represent the positions on the board going from left to right, top to bottom.\n",
    "Column 43 is the winner of the game\n",
    "\n",
    "![game board data represantation](data_field_view.png)\n",
    "\n",
    "\n",
    "Players are marked as 1 and -1, empty spaces or tie games are marked as 0.\n",
    "\n",
    "![player values on field](data_sample.png)"
   ]
  },
  {
   "cell_type": "markdown",
   "metadata": {},
   "source": [
    "## Read data"
   ]
  },
  {
   "cell_type": "code",
   "execution_count": null,
   "metadata": {},
   "outputs": [],
   "source": [
    "data = pd.read_csv(r'connect4data\\c4_game_database.csv', sep=',', header=None, skiprows=[0])\n",
    "\n",
    "print(data) \n",
    "data.shape"
   ]
  },
  {
   "cell_type": "markdown",
   "metadata": {},
   "source": [
    "## Data Cleaning\n",
    "Remove faulty data, what shall be deleted?\n",
    "(**Hint: dataframe.drop.....**)"
   ]
  },
  {
   "cell_type": "code",
   "execution_count": null,
   "metadata": {},
   "outputs": [],
   "source": [
    "data = ???"
   ]
  },
  {
   "cell_type": "markdown",
   "metadata": {},
   "source": [
    "## Extract the winner values (y_train)\n",
    "Help for \"Python Slice Notation\": https://stackoverflow.com/a/509295/11341158"
   ]
  },
  {
   "cell_type": "code",
   "execution_count": null,
   "metadata": {},
   "outputs": [],
   "source": [
    "# extract winner from data \n",
    "winner = data.values[???] # y_labels\n",
    "\n",
    "# converts data to hot encoded array (keras needs this to classify, ML friendly format)\n",
    "y_train = keras.utils.to_categorical(winner, num_classes=3) \n",
    "# [1 0 0] = tie (=0)\n",
    "# [0 1 0] = bot loses  (=1)\n",
    "# [0 0 1] = bot wins (=-1)\n",
    "print(y_train)"
   ]
  },
  {
   "cell_type": "markdown",
   "metadata": {},
   "source": [
    "## Extract the training data (x_train)\n",
    "Extraxt the training data Data without the information about the winner (since we want to predict the winner)\n",
    "\n",
    "Help for \"Python Slice Notation\": https://stackoverflow.com/a/509295/11341158"
   ]
  },
  {
   "cell_type": "code",
   "execution_count": null,
   "metadata": {},
   "outputs": [],
   "source": [
    "x_train = data.values[???]\n",
    "x_train"
   ]
  },
  {
   "cell_type": "markdown",
   "metadata": {},
   "source": [
    "## Data Normalization\n",
    "Normalize your data as seen in the presentation"
   ]
  },
  {
   "cell_type": "code",
   "execution_count": null,
   "metadata": {},
   "outputs": [],
   "source": [
    "from sklearn.preprocessing import ???Scaler\n",
    "scaler = ???Scaler()\n",
    "x_train = scaler.fit_transform(x_train)\n",
    "x_train"
   ]
  },
  {
   "cell_type": "markdown",
   "metadata": {},
   "source": [
    "## Train the model\n",
    "\n",
    "### Add layers\n",
    "\n",
    "``` python\n",
    "# model.add(keras.layers.Dense(\"amount of neurons\", activation=\"activation function\"))\n",
    "model.add(keras.layers.Dense(10, activation='relu'))\n",
    "```\n",
    "\n",
    "### Train your model\n",
    "``` python \n",
    "#sample: history = model.fit(x_train, y_train, validation_split=0.20, epochs=100, batch_size=1000, shuffle=True)\n",
    "history = model.fit(x_train, y_train, validation_split=0.20, epochs=???, batch_size=???, shuffle=True)\n",
    "```"
   ]
  },
  {
   "cell_type": "code",
   "execution_count": null,
   "metadata": {},
   "outputs": [],
   "source": [
    "model = keras.Sequential()"
   ]
  },
  {
   "cell_type": "code",
   "execution_count": null,
   "metadata": {},
   "outputs": [],
   "source": [
    "# input layer\n",
    "model.add(keras.layers.Dense(??, activation='relu', input_shape=[??])) # ?? input features\n",
    "\n",
    "# hidden layers, add more?\n",
    "model.add(keras.layers.Dense(???, activation='relu'))\n",
    "\n",
    "# output layer\n",
    "model.add(keras.layers.Dense(?????, activation='softmax')) # ????? different outcomes "
   ]
  },
  {
   "cell_type": "code",
   "execution_count": null,
   "metadata": {},
   "outputs": [],
   "source": [
    "model.compile(loss='categorical_crossentropy', optimizer='sgd', metrics=['accuracy'])\n",
    "# validation split = % of data we use as test set\n",
    "history = model.fit(x_train, y_train, validation_split=0.20, epochs=??, batch_size=???, shuffle=True)"
   ]
  },
  {
   "cell_type": "markdown",
   "metadata": {},
   "source": [
    "## Print history\n",
    "See the difference between training accuracy and validation accuracy"
   ]
  },
  {
   "cell_type": "code",
   "execution_count": null,
   "metadata": {},
   "outputs": [],
   "source": [
    "plt.figure(figsize=(20,20))\n",
    "plt.subplot(221)\n",
    "plt.plot(history.history['acc'])\n",
    "plt.plot(history.history['val_acc'])\n",
    "plt.title('Accuracy')\n",
    "plt.xlabel('epoch')\n",
    "plt.ylabel('acc')\n",
    "plt.legend(['Training Accuracy', 'Validation Accuracy'], loc='upper left')\n",
    "\n",
    "plt.subplot(222)\n",
    "plt.plot(history.history['loss'])\n",
    "plt.plot(history.history['val_loss'])\n",
    "plt.title('Loss')\n",
    "plt.xlabel('epoch')\n",
    "plt.ylabel('loss')\n",
    "plt.legend(['Training Loss', 'Validation Loss'], loc='upper left')"
   ]
  },
  {
   "cell_type": "markdown",
   "metadata": {},
   "source": [
    "## Save the neural network"
   ]
  },
  {
   "cell_type": "code",
   "execution_count": null,
   "metadata": {},
   "outputs": [],
   "source": [
    "# save the model weights\n",
    "# H5 = Hierarchical Data Format\n",
    "# https://en.wikipedia.org/wiki/Hierarchical_Data_Format\n",
    "model.save(\"connect4predictor.H5\")"
   ]
  },
  {
   "cell_type": "markdown",
   "metadata": {},
   "source": [
    "## Optional: Some test cases..."
   ]
  },
  {
   "cell_type": "code",
   "execution_count": null,
   "metadata": {},
   "outputs": [],
   "source": [
    "mymodel = keras.models.load_model(\"connect4predictor.H5\")"
   ]
  },
  {
   "cell_type": "code",
   "execution_count": null,
   "metadata": {},
   "outputs": [],
   "source": [
    "emptyfield = pd.DataFrame([[ 0.,  0.,  0.,  0.,  0.,  0.,  0.,  0.,  0.,  0.,  0.,  0.,  0.,  0.,  0.,  0.,  0.,  0.,\n",
    "  0.,  0.,  0.,  0.,  0.,  0.,  0.,  0.,  0.,  0.,  0.,  0.,  0.,  0.,  0.,  0.,  0., 0,\n",
    "  0.,  0.,  0.,  0.,  0.,  0.]])\n",
    "emptyfield.shape"
   ]
  },
  {
   "cell_type": "code",
   "execution_count": null,
   "metadata": {},
   "outputs": [],
   "source": [
    "empty_result = mymodel.predict(emptyfield.values)\n",
    "print(empty_result)\n",
    "print(\"predicted chance for tie:\", empty_result[0,0]*100, \"%\")\n",
    "print(\"predicted chance for loss:\", empty_result[0,1]*100, \"%\")\n",
    "print(\"predicted chance for win:\", empty_result[0,2]*100, \"%\")\n",
    "print(\"highest predicted chance was found at index\", np.argmax(empty_result))"
   ]
  },
  {
   "cell_type": "code",
   "execution_count": null,
   "metadata": {},
   "outputs": [],
   "source": [
    "corners = pd.DataFrame([[ 0.,  0.,  0.,  0.,  0.,  0.,  0.,  0.,  0.,  0.,  0.,  0.,  0.,  0.,  0.,  0.,  0.,  0.,\n",
    "  0.,  0.,  0.,  0.,  0.,  0.,  0.,  0.,  0.,  0.,  0.,  0.,  0.,  0.,  0.,  0.,  0., -1.,\n",
    "  0.,  0.,  0.,  0.,  0.,  1.]])\n",
    "corners.shape"
   ]
  },
  {
   "cell_type": "code",
   "execution_count": null,
   "metadata": {},
   "outputs": [],
   "source": [
    "corner_result = mymodel.predict(corners.values)\n",
    "print(corner_result)\n",
    "print(\"predicted chance for tie:\", corner_result[0,0]*100, \"%\")\n",
    "print(\"predicted chance for loss:\", corner_result[0,1]*100, \"%\")\n",
    "print(\"predicted chance for win:\", corner_result[0,2]*100, \"%\")\n",
    "print(\"highest predicted chance was found at index\", np.argmax(corner_result))"
   ]
  }
 ],
 "metadata": {
  "kernelspec": {
   "display_name": "Python 3",
   "language": "python",
   "name": "python3"
  },
  "language_info": {
   "codemirror_mode": {
    "name": "ipython",
    "version": 3
   },
   "file_extension": ".py",
   "mimetype": "text/x-python",
   "name": "python",
   "nbconvert_exporter": "python",
   "pygments_lexer": "ipython3",
   "version": "3.6.8"
  }
 },
 "nbformat": 4,
 "nbformat_minor": 2
}
