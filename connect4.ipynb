{
 "cells": [
  {
   "cell_type": "code",
   "execution_count": 1,
   "metadata": {},
   "outputs": [
    {
     "name": "stderr",
     "output_type": "stream",
     "text": [
      "Using TensorFlow backend.\n"
     ]
    }
   ],
   "source": [
    "import numpy as np\n",
    "import keras\n",
    "import matplotlib.pyplot as plt\n",
    "\n",
    "import pandas as pd\n",
    "from pathlib import Path"
   ]
  },
  {
   "attachments": {
    "image.png": {
     "image/png": "[encoded data removed]"
    }
   },
   "cell_type": "markdown",
   "metadata": {},
   "source": [
    "### Data Info\n",
    "\n",
    "The data is made up of 43 columns and 376,641 rows (first is the header).\n",
    "\n",
    "Each row is a finished game of connect-4.\n",
    "\n",
    "![image.png](attachment:image.png)\n",
    "\n",
    "Columns 1-42 represent the positions on the board going from left to right, top to bottom.\n",
    "Column 43 is the winner of the game\n",
    "\n",
    "![game board data represantation](data_field_view.png)\n",
    "\n",
    "\n",
    "Players are marked as 1 and -1, empty spaces or tie games are marked as 0.\n",
    "\n",
    "![player values on field](data_sample.png)"
   ]
  },
  {
   "cell_type": "markdown",
   "metadata": {},
   "source": [
    "## Read data"
   ]
  },
  {
   "cell_type": "code",
   "execution_count": 2,
   "metadata": {},
   "outputs": [
    {
     "name": "stdout",
     "output_type": "stream",
     "text": [
      "         0    1    2    3    4    5    6    7    8    9   ...   33   34   35  \\\n",
      "0       1.0  1.0  1.0 -1.0 -1.0  1.0  0.0 -1.0 -1.0 -1.0  ...  1.0  1.0 -1.0   \n",
      "1       0.0  0.0  1.0  1.0  1.0  1.0  0.0  0.0  0.0  1.0  ... -1.0  1.0  1.0   \n",
      "2       0.0  1.0  0.0  1.0  0.0  0.0  0.0  0.0 -1.0  0.0  ...  0.0 -1.0  1.0   \n",
      "3       0.0  0.0  0.0  1.0  0.0  0.0  0.0  0.0  0.0  0.0  ...  0.0  1.0  1.0   \n",
      "4       0.0 -1.0 -1.0 -1.0  1.0  0.0  0.0  1.0  1.0  1.0  ...  0.0  1.0 -1.0   \n",
      "5       0.0  0.0  0.0  0.0  0.0  0.0  1.0  0.0  0.0 -1.0  ... -1.0  1.0 -1.0   \n",
      "6       0.0  0.0  1.0  1.0  1.0  1.0  0.0  0.0  0.0 -1.0  ...  1.0  0.0 -1.0   \n",
      "7       0.0  0.0  0.0  0.0  1.0 -1.0  0.0  0.0 -1.0  0.0  ...  1.0  1.0  1.0   \n",
      "8       0.0  0.0  0.0  0.0  0.0  0.0  0.0  0.0  0.0  1.0  ... -1.0  0.0  1.0   \n",
      "9       0.0  0.0  1.0  0.0  0.0  0.0  0.0  0.0 -1.0 -1.0  ...  1.0  1.0 -1.0   \n",
      "10      0.0  0.0  1.0  0.0  0.0  0.0  0.0  0.0  1.0 -1.0  ... -1.0  0.0 -1.0   \n",
      "11      0.0  0.0  1.0  0.0  0.0  0.0  0.0  0.0  0.0 -1.0  ... -1.0  1.0  0.0   \n",
      "12      0.0  0.0  0.0  0.0  0.0  0.0  0.0  0.0  0.0  0.0  ...  1.0  0.0  1.0   \n",
      "13      0.0  0.0 -1.0  0.0  0.0  0.0  0.0  0.0  1.0  1.0  ... -1.0  0.0  1.0   \n",
      "14      0.0  0.0  0.0  0.0  0.0  0.0  0.0  0.0  0.0  0.0  ...  1.0 -1.0 -1.0   \n",
      "15      0.0  0.0  0.0  1.0  0.0  0.0  0.0  1.0  0.0 -1.0  ...  1.0  0.0  1.0   \n",
      "16      0.0  0.0  0.0  1.0  1.0 -1.0  0.0  0.0  0.0 -1.0  ... -1.0  1.0  0.0   \n",
      "17      0.0 -1.0  1.0  1.0  1.0 -1.0  1.0  1.0  1.0  1.0  ... -1.0  1.0  1.0   \n",
      "18      0.0  0.0 -1.0 -1.0  1.0  0.0  0.0  0.0  1.0 -1.0  ...  0.0  1.0 -1.0   \n",
      "19      0.0  0.0  0.0  0.0  0.0  0.0  0.0  0.0  0.0  1.0  ... -1.0  0.0 -1.0   \n",
      "20      0.0  1.0  0.0  0.0 -1.0  0.0  0.0  0.0 -1.0  1.0  ...  1.0 -1.0  1.0   \n",
      "21      0.0  0.0  0.0  0.0  0.0  0.0  0.0  0.0  0.0  0.0  ...  0.0  0.0  1.0   \n",
      "22      0.0  1.0  0.0  0.0 -1.0  0.0  0.0  0.0 -1.0  0.0  ...  0.0  0.0  0.0   \n",
      "23      0.0  0.0  0.0  0.0  1.0  0.0  0.0  0.0  0.0  0.0  ...  1.0  1.0 -1.0   \n",
      "24      0.0  0.0  1.0  0.0  0.0  0.0  0.0  0.0  0.0  1.0  ... -1.0 -1.0 -1.0   \n",
      "25      0.0  0.0  0.0  0.0  0.0  0.0  0.0  0.0  0.0  0.0  ...  0.0  1.0 -1.0   \n",
      "26      0.0  1.0 -1.0  1.0  0.0  0.0  0.0  0.0 -1.0 -1.0  ...  1.0  0.0 -1.0   \n",
      "27     -1.0  0.0  0.0 -1.0  0.0  1.0  0.0 -1.0  0.0  0.0  ...  1.0 -1.0 -1.0   \n",
      "28      0.0 -1.0 -1.0  0.0  0.0  0.0  0.0  0.0  1.0  1.0  ...  0.0  0.0 -1.0   \n",
      "29      0.0  0.0  0.0  0.0 -1.0  0.0  0.0  0.0 -1.0 -1.0  ... -1.0  1.0 -1.0   \n",
      "...     ...  ...  ...  ...  ...  ...  ...  ...  ...  ...  ...  ...  ...  ...   \n",
      "376610  0.0  0.0  0.0  0.0  0.0  0.0  0.0  0.0  0.0  0.0  ...  0.0  0.0  0.0   \n",
      "376611  0.0  0.0  0.0 -1.0  0.0  0.0  0.0  0.0  0.0  0.0  ...  1.0  0.0  1.0   \n",
      "376612  1.0 -1.0  1.0  1.0  1.0 -1.0  0.0 -1.0  1.0  1.0  ... -1.0  1.0  1.0   \n",
      "376613  0.0  1.0  0.0  0.0  0.0 -1.0  0.0  0.0 -1.0  1.0  ... -1.0  0.0  0.0   \n",
      "376614  0.0  0.0  1.0  0.0  0.0  0.0  0.0  0.0  0.0 -1.0  ...  0.0  1.0  0.0   \n",
      "376615  0.0  0.0  0.0  0.0  0.0  0.0  0.0 -1.0  1.0  0.0  ...  0.0  0.0  1.0   \n",
      "376616  0.0  1.0 -1.0  1.0  0.0  1.0  0.0  0.0 -1.0 -1.0  ... -1.0  1.0  1.0   \n",
      "376617  1.0  0.0 -1.0  1.0  0.0  0.0  0.0 -1.0  0.0  1.0  ... -1.0  1.0  1.0   \n",
      "376618  0.0  1.0 -1.0  0.0  0.0  0.0  0.0  1.0 -1.0  1.0  ... -1.0  0.0 -1.0   \n",
      "376619  0.0  0.0  0.0  1.0  0.0  0.0  0.0  0.0  0.0  0.0  ...  0.0  0.0 -1.0   \n",
      "376620  0.0  0.0 -1.0 -1.0  0.0  0.0  0.0  1.0 -1.0  1.0  ...  1.0  0.0 -1.0   \n",
      "376621  0.0 -1.0  0.0  0.0  0.0  0.0  0.0  0.0 -1.0  1.0  ...  1.0 -1.0 -1.0   \n",
      "376622  0.0  0.0  0.0  0.0  0.0  0.0  0.0  0.0  1.0  0.0  ...  0.0  0.0  1.0   \n",
      "376623  0.0  0.0 -1.0 -1.0 -1.0 -1.0 -1.0  0.0  0.0 -1.0  ...  1.0 -1.0  1.0   \n",
      "376624  0.0  1.0  1.0 -1.0  0.0  0.0  0.0  0.0 -1.0 -1.0  ...  1.0 -1.0  0.0   \n",
      "376625  0.0  0.0  0.0  0.0  1.0  0.0  0.0  0.0 -1.0  0.0  ...  0.0  0.0 -1.0   \n",
      "376626  0.0  0.0  0.0  0.0  0.0  0.0  0.0  0.0  0.0  0.0  ... -1.0 -1.0  1.0   \n",
      "376627  0.0  0.0  0.0  1.0  0.0  0.0  0.0  0.0  0.0  1.0  ...  1.0  0.0  1.0   \n",
      "376628  0.0  0.0  1.0  1.0  0.0  0.0  0.0  0.0  0.0 -1.0  ... -1.0  0.0 -1.0   \n",
      "376629  0.0 -1.0  0.0 -1.0  0.0  0.0  0.0  0.0  1.0  0.0  ...  1.0 -1.0 -1.0   \n",
      "376630  0.0  0.0  0.0  0.0  1.0  0.0  0.0  0.0 -1.0  0.0  ...  0.0  0.0 -1.0   \n",
      "376631  0.0 -1.0 -1.0 -1.0  0.0  0.0  0.0  0.0  1.0 -1.0  ...  1.0  0.0  1.0   \n",
      "376632  0.0  0.0  0.0  0.0  0.0  0.0  0.0  0.0  0.0  0.0  ...  0.0  0.0  1.0   \n",
      "376633  0.0  0.0  0.0  0.0  1.0  0.0  0.0  0.0  0.0  0.0  ... -1.0 -1.0 -1.0   \n",
      "376634  0.0  0.0  0.0  0.0  0.0  0.0  0.0  0.0  0.0 -1.0  ...  1.0  0.0 -1.0   \n",
      "376635  0.0  0.0  0.0 -1.0  0.0  0.0  0.0  0.0  0.0 -1.0  ...  0.0  1.0 -1.0   \n",
      "376636  0.0  0.0  0.0  0.0  0.0  0.0  0.0  0.0  0.0 -1.0  ...  0.0  0.0  0.0   \n",
      "376637  0.0  0.0  1.0  0.0  0.0  1.0  0.0  0.0  0.0 -1.0  ...  1.0  1.0 -1.0   \n",
      "376638  0.0  0.0  0.0  0.0  0.0  0.0  0.0  0.0 -1.0  0.0  ... -1.0  0.0 -1.0   \n",
      "376639  0.0  0.0  0.0  0.0  0.0  0.0  0.0  0.0  0.0  0.0  ... -1.0  0.0 -1.0   \n",
      "\n",
      "         36   37   38   39   40   41   42  \n",
      "0       1.0 -1.0  1.0 -1.0  1.0 -1.0 -1.0  \n",
      "1      -1.0 -1.0 -1.0  1.0  1.0 -1.0  1.0  \n",
      "2      -1.0 -1.0  1.0 -1.0 -1.0 -1.0 -1.0  \n",
      "3       1.0 -1.0  1.0 -1.0  0.0  1.0 -1.0  \n",
      "4      -1.0  1.0 -1.0  1.0  0.0 -1.0  1.0  \n",
      "5       1.0 -1.0  1.0 -1.0 -1.0  1.0  1.0  \n",
      "6       1.0 -1.0 -1.0  1.0 -1.0 -1.0  1.0  \n",
      "7      -1.0  0.0  1.0 -1.0  1.0  1.0  1.0  \n",
      "8      -1.0  1.0 -1.0  1.0 -1.0 -1.0 -1.0  \n",
      "9       1.0 -1.0 -1.0  1.0 -1.0  1.0  1.0  \n",
      "10      1.0 -1.0 -1.0  1.0 -1.0  0.0  1.0  \n",
      "11      0.0 -1.0  1.0 -1.0  1.0  1.0  1.0  \n",
      "12     -1.0 -1.0 -1.0 -1.0 -1.0  1.0 -1.0  \n",
      "13     -1.0 -1.0  1.0 -1.0  1.0  1.0 -1.0  \n",
      "14      1.0  1.0 -1.0  1.0  1.0  1.0 -1.0  \n",
      "15     -1.0  1.0 -1.0  0.0 -1.0  0.0  1.0  \n",
      "16      0.0  1.0 -1.0 -1.0  1.0 -1.0  1.0  \n",
      "17      1.0 -1.0 -1.0 -1.0  1.0  1.0  1.0  \n",
      "18      1.0 -1.0 -1.0  1.0  0.0  1.0  1.0  \n",
      "19     -1.0  1.0  1.0 -1.0  1.0  0.0  1.0  \n",
      "20      1.0 -1.0  1.0 -1.0 -1.0 -1.0  1.0  \n",
      "21      1.0  1.0 -1.0  1.0  1.0 -1.0 -1.0  \n",
      "22     -1.0  1.0 -1.0 -1.0 -1.0  1.0 -1.0  \n",
      "23     -1.0  1.0 -1.0 -1.0 -1.0  1.0 -1.0  \n",
      "24      1.0 -1.0  1.0  1.0  1.0 -1.0 -1.0  \n",
      "25     -1.0  1.0 -1.0  0.0 -1.0  1.0  1.0  \n",
      "26      1.0  1.0 -1.0  1.0  1.0  0.0 -1.0  \n",
      "27      1.0 -1.0 -1.0  1.0  1.0 -1.0  1.0  \n",
      "28     -1.0  1.0 -1.0 -1.0  0.0  0.0 -1.0  \n",
      "29     -1.0  1.0  1.0  1.0 -1.0  1.0  1.0  \n",
      "...     ...  ...  ...  ...  ...  ...  ...  \n",
      "376610 -1.0 -1.0 -1.0  1.0  0.0 -1.0  1.0  \n",
      "376611 -1.0 -1.0  1.0  1.0 -1.0  0.0 -1.0  \n",
      "376612  1.0  1.0 -1.0 -1.0  1.0  1.0 -1.0  \n",
      "376613 -1.0 -1.0  1.0 -1.0  1.0 -1.0  1.0  \n",
      "376614  0.0  1.0 -1.0  1.0 -1.0 -1.0 -1.0  \n",
      "376615 -1.0  1.0 -1.0  0.0  0.0  0.0 -1.0  \n",
      "376616 -1.0  1.0 -1.0 -1.0  1.0 -1.0  1.0  \n",
      "376617  1.0  1.0 -1.0 -1.0 -1.0  1.0 -1.0  \n",
      "376618 -1.0  1.0 -1.0 -1.0  1.0  0.0  1.0  \n",
      "376619  1.0 -1.0  1.0 -1.0  1.0  1.0 -1.0  \n",
      "376620 -1.0 -1.0  1.0 -1.0 -1.0  0.0  1.0  \n",
      "376621 -1.0  1.0 -1.0  1.0  1.0  1.0 -1.0  \n",
      "376622 -1.0 -1.0 -1.0 -1.0  0.0  1.0 -1.0  \n",
      "376623 -1.0 -1.0 -1.0  1.0  1.0  1.0 -1.0  \n",
      "376624  1.0  1.0 -1.0 -1.0  1.0 -1.0  1.0  \n",
      "376625  1.0  1.0 -1.0 -1.0  1.0  0.0  1.0  \n",
      "376626 -1.0  1.0 -1.0  1.0  1.0 -1.0  1.0  \n",
      "376627 -1.0  1.0  1.0 -1.0  1.0  0.0 -1.0  \n",
      "376628  1.0 -1.0  1.0  1.0  1.0 -1.0 -1.0  \n",
      "376629  1.0  0.0 -1.0 -1.0  1.0  1.0 -1.0  \n",
      "376630  1.0  1.0 -1.0 -1.0  1.0  0.0  1.0  \n",
      "376631  1.0 -1.0  1.0  1.0 -1.0  0.0 -1.0  \n",
      "376632  1.0 -1.0  1.0 -1.0  0.0  0.0 -1.0  \n",
      "376633  0.0  1.0 -1.0 -1.0  1.0 -1.0  1.0  \n",
      "376634 -1.0  1.0 -1.0 -1.0  1.0 -1.0 -1.0  \n",
      "376635 -1.0 -1.0  1.0 -1.0  0.0  1.0 -1.0  \n",
      "376636 -1.0  1.0 -1.0  1.0  0.0  0.0 -1.0  \n",
      "376637 -1.0 -1.0  1.0  1.0  1.0 -1.0 -1.0  \n",
      "376638 -1.0  1.0  1.0  1.0 -1.0  0.0 -1.0  \n",
      "376639 -1.0 -1.0  1.0 -1.0  1.0 -1.0  1.0  \n",
      "\n",
      "[376640 rows x 43 columns]\n"
     ]
    },
    {
     "data": {
      "text/plain": [
       "(376640, 43)"
      ]
     },
     "execution_count": 2,
     "metadata": {},
     "output_type": "execute_result"
    }
   ],
   "source": [
    "data = pd.read_csv(r'Connect4Data\\c4_game_database.csv', sep=',', header=None, skiprows=[0])\n",
    "\n",
    "print(data) \n",
    "data.shape"
   ]
  },
  {
   "cell_type": "markdown",
   "metadata": {},
   "source": [
    "## Data Cleaning\n",
    "Remove faulty data, what shall be deleted?\n",
    "(Hint: dataframe.dropna())"
   ]
  },
  {
   "cell_type": "code",
   "execution_count": 3,
   "metadata": {},
   "outputs": [
    {
     "name": "stdout",
     "output_type": "stream",
     "text": [
      "dropped 21 rows with NaN values\n"
     ]
    }
   ],
   "source": [
    "x1 ,y1 = data.shape\n",
    "data = data.dropna(axis=0)\n",
    "x2 ,y2 = data.shape\n",
    "print(\"dropped {} rows with NaN values\".format(x1-x2))"
   ]
  },
  {
   "cell_type": "code",
   "execution_count": 4,
   "metadata": {},
   "outputs": [
    {
     "name": "stdout",
     "output_type": "stream",
     "text": [
      "delete 0 duplicate rows\n"
     ]
    }
   ],
   "source": [
    "x1 ,y1 = data.shape\n",
    "data = data.drop_duplicates()\n",
    "x2 ,y2 = data.shape\n",
    "print(\"delete {} duplicate rows\".format(x1-x2))"
   ]
  },
  {
   "cell_type": "markdown",
   "metadata": {},
   "source": [
    "## Extract the winner values (y_train)\n",
    "Help for \"Python Slice Notation\": https://stackoverflow.com/a/509295/11341158"
   ]
  },
  {
   "cell_type": "code",
   "execution_count": 5,
   "metadata": {},
   "outputs": [
    {
     "name": "stdout",
     "output_type": "stream",
     "text": [
      "[[0. 0. 1.]\n",
      " [0. 1. 0.]\n",
      " [0. 0. 1.]\n",
      " ...\n",
      " [0. 0. 1.]\n",
      " [0. 0. 1.]\n",
      " [0. 1. 0.]]\n"
     ]
    }
   ],
   "source": [
    "# extract winner from data \n",
    "winner = data.values[:, -1] # y_labels\n",
    "\n",
    "# converts data to hot encoded array (keras needs this to classify, ML friendly format)\n",
    "y_train = keras.utils.to_categorical(winner, num_classes=3) \n",
    "# [1 0 0] = tie (=0)\n",
    "# [0 1 0] = bot loses  (=1)\n",
    "# [0 0 1] = bot wins (=-1)\n",
    "print(y_train)"
   ]
  },
  {
   "cell_type": "markdown",
   "metadata": {},
   "source": [
    "## Extract the training data (x_train)\n",
    "Data without information about the winner (since we want to predict the winner)\n",
    "\n",
    "\n",
    "Help for \"Python Slice Notation\": https://stackoverflow.com/a/509295/11341158"
   ]
  },
  {
   "cell_type": "code",
   "execution_count": 6,
   "metadata": {},
   "outputs": [
    {
     "name": "stdout",
     "output_type": "stream",
     "text": [
      "(376619, 42)\n"
     ]
    },
    {
     "data": {
      "text/plain": [
       "array([[ 1.,  1.,  1., ..., -1.,  1., -1.],\n",
       "       [ 0.,  0.,  1., ...,  1.,  1., -1.],\n",
       "       [ 0.,  1.,  0., ..., -1., -1., -1.],\n",
       "       ...,\n",
       "       [ 0.,  0.,  1., ...,  1.,  1., -1.],\n",
       "       [ 0.,  0.,  0., ...,  1., -1.,  0.],\n",
       "       [ 0.,  0.,  0., ..., -1.,  1., -1.]])"
      ]
     },
     "execution_count": 6,
     "metadata": {},
     "output_type": "execute_result"
    }
   ],
   "source": [
    "x_train = data.values[:,:-1]\n",
    "print(x_train.shape)\n",
    "x_train"
   ]
  },
  {
   "cell_type": "markdown",
   "metadata": {},
   "source": [
    "## Data Normalization\n",
    "Normalize your data as seen in the presentation"
   ]
  },
  {
   "cell_type": "code",
   "execution_count": 7,
   "metadata": {},
   "outputs": [
    {
     "data": {
      "text/plain": [
       "array([[ 2.71113614e+00,  2.10046212e+00,  1.82010676e+00, ...,\n",
       "        -1.02161653e+00,  1.07250685e+00, -1.13875637e+00],\n",
       "       [ 2.81892403e-03,  2.40657003e-03,  1.82010676e+00, ...,\n",
       "         1.02018528e+00,  1.07250685e+00, -1.13875637e+00],\n",
       "       [ 2.81892403e-03,  2.10046212e+00, -5.80115248e-04, ...,\n",
       "        -1.02161653e+00, -1.06943571e+00, -1.13875637e+00],\n",
       "       ...,\n",
       "       [ 2.81892403e-03,  2.40657003e-03,  1.82010676e+00, ...,\n",
       "         1.02018528e+00,  1.07250685e+00, -1.13875637e+00],\n",
       "       [ 2.81892403e-03,  2.40657003e-03, -5.80115248e-04, ...,\n",
       "         1.02018528e+00, -1.06943571e+00,  3.24754245e-03],\n",
       "       [ 2.81892403e-03,  2.40657003e-03, -5.80115248e-04, ...,\n",
       "        -1.02161653e+00,  1.07250685e+00, -1.13875637e+00]])"
      ]
     },
     "execution_count": 7,
     "metadata": {},
     "output_type": "execute_result"
    }
   ],
   "source": [
    "from sklearn.preprocessing import StandardScaler\n",
    "scaler = StandardScaler()\n",
    "x_train = scaler.fit_transform(x_train)\n",
    "x_train"
   ]
  },
  {
   "cell_type": "markdown",
   "metadata": {},
   "source": [
    "## Train the model\n",
    "\n",
    "### Add layers\n",
    "\n",
    "``` python\n",
    "# model.add(keras.layers.Dense(\"amount of neurons\", activation=\"activation function\"))\n",
    "model.add(keras.layers.Dense(10, activation='relu'))\n",
    "```\n",
    "\n",
    "### Train your model\n",
    "``` python \n",
    "#sample: history = model.fit(x_train, y_train, validation_split=0.20, epochs=100, batch_size=1000, shuffle=True)\n",
    "history = model.fit(x_train, y_train, validation_split=0.20, epochs=???, batch_size=???, shuffle=True)\n",
    "```"
   ]
  },
  {
   "cell_type": "code",
   "execution_count": 8,
   "metadata": {},
   "outputs": [
    {
     "name": "stdout",
     "output_type": "stream",
     "text": [
      "WARNING:tensorflow:From c:\\users\\ch1011587\\appdata\\local\\programs\\python\\python36\\lib\\site-packages\\keras\\backend\\tensorflow_backend.py:2880: calling reduce_sum (from tensorflow.python.ops.math_ops) with keep_dims is deprecated and will be removed in a future version.\n",
      "Instructions for updating:\n",
      "keep_dims is deprecated, use keepdims instead\n",
      "WARNING:tensorflow:From c:\\users\\ch1011587\\appdata\\local\\programs\\python\\python36\\lib\\site-packages\\keras\\backend\\tensorflow_backend.py:1344: calling reduce_mean (from tensorflow.python.ops.math_ops) with keep_dims is deprecated and will be removed in a future version.\n",
      "Instructions for updating:\n",
      "keep_dims is deprecated, use keepdims instead\n",
      "Train on 301295 samples, validate on 75324 samples\n",
      "Epoch 1/100\n",
      "301295/301295 [==============================] - 2s 7us/step - loss: 0.9199 - acc: 0.4654 - val_loss: 0.8690 - val_acc: 0.4763\n",
      "Epoch 2/100\n",
      "301295/301295 [==============================] - 1s 5us/step - loss: 0.8555 - acc: 0.4869 - val_loss: 0.8521 - val_acc: 0.4975\n",
      "Epoch 3/100\n",
      "301295/301295 [==============================] - 2s 5us/step - loss: 0.8410 - acc: 0.5085 - val_loss: 0.8388 - val_acc: 0.5170\n",
      "Epoch 4/100\n",
      "301295/301295 [==============================] - 1s 5us/step - loss: 0.8274 - acc: 0.5290 - val_loss: 0.8246 - val_acc: 0.5356\n",
      "Epoch 5/100\n",
      "301295/301295 [==============================] - 1s 5us/step - loss: 0.8122 - acc: 0.5482 - val_loss: 0.8083 - val_acc: 0.5554\n",
      "Epoch 6/100\n",
      "301295/301295 [==============================] - 1s 5us/step - loss: 0.7944 - acc: 0.5671 - val_loss: 0.7890 - val_acc: 0.5735\n",
      "Epoch 7/100\n",
      "301295/301295 [==============================] - 1s 5us/step - loss: 0.7735 - acc: 0.5862 - val_loss: 0.7665 - val_acc: 0.5922\n",
      "Epoch 8/100\n",
      "301295/301295 [==============================] - 1s 5us/step - loss: 0.7497 - acc: 0.6055 - val_loss: 0.7415 - val_acc: 0.6119\n",
      "Epoch 9/100\n",
      "301295/301295 [==============================] - 1s 5us/step - loss: 0.7245 - acc: 0.6236 - val_loss: 0.7160 - val_acc: 0.6304\n",
      "Epoch 10/100\n",
      "301295/301295 [==============================] - 1s 4us/step - loss: 0.7000 - acc: 0.6411 - val_loss: 0.6920 - val_acc: 0.6464\n",
      "Epoch 11/100\n",
      "301295/301295 [==============================] - 1s 4us/step - loss: 0.6780 - acc: 0.6558 - val_loss: 0.6711 - val_acc: 0.6607\n",
      "Epoch 12/100\n",
      "301295/301295 [==============================] - 1s 4us/step - loss: 0.6590 - acc: 0.6682 - val_loss: 0.6530 - val_acc: 0.6735\n",
      "Epoch 13/100\n",
      "301295/301295 [==============================] - 1s 4us/step - loss: 0.6423 - acc: 0.6791 - val_loss: 0.6367 - val_acc: 0.6851\n",
      "Epoch 14/100\n",
      "301295/301295 [==============================] - 1s 5us/step - loss: 0.6266 - acc: 0.6887 - val_loss: 0.6211 - val_acc: 0.6950\n",
      "Epoch 15/100\n",
      "301295/301295 [==============================] - 1s 5us/step - loss: 0.6109 - acc: 0.6984 - val_loss: 0.6051 - val_acc: 0.7051\n",
      "Epoch 16/100\n",
      "301295/301295 [==============================] - 2s 5us/step - loss: 0.5941 - acc: 0.7090 - val_loss: 0.5873 - val_acc: 0.7160\n",
      "Epoch 17/100\n",
      "301295/301295 [==============================] - 1s 5us/step - loss: 0.5750 - acc: 0.7215 - val_loss: 0.5665 - val_acc: 0.7293\n",
      "Epoch 18/100\n",
      "301295/301295 [==============================] - 1s 5us/step - loss: 0.5514 - acc: 0.7370 - val_loss: 0.5397 - val_acc: 0.7466\n",
      "Epoch 19/100\n",
      "301295/301295 [==============================] - 1s 5us/step - loss: 0.5192 - acc: 0.7585 - val_loss: 0.5018 - val_acc: 0.7696\n",
      "Epoch 20/100\n",
      "301295/301295 [==============================] - 2s 5us/step - loss: 0.4732 - acc: 0.7870 - val_loss: 0.4490 - val_acc: 0.8010\n",
      "Epoch 21/100\n",
      "301295/301295 [==============================] - 1s 5us/step - loss: 0.4160 - acc: 0.8176 - val_loss: 0.3929 - val_acc: 0.8283\n",
      "Epoch 22/100\n",
      "301295/301295 [==============================] - 1s 5us/step - loss: 0.3650 - acc: 0.8399 - val_loss: 0.3498 - val_acc: 0.8466\n",
      "Epoch 23/100\n",
      "301295/301295 [==============================] - 2s 5us/step - loss: 0.3297 - acc: 0.8537 - val_loss: 0.3214 - val_acc: 0.8564\n",
      "Epoch 24/100\n",
      "301295/301295 [==============================] - 1s 5us/step - loss: 0.3070 - acc: 0.8620 - val_loss: 0.3032 - val_acc: 0.8626\n",
      "Epoch 25/100\n",
      "301295/301295 [==============================] - 1s 5us/step - loss: 0.2919 - acc: 0.8670 - val_loss: 0.2917 - val_acc: 0.8663\n",
      "Epoch 26/100\n",
      "301295/301295 [==============================] - 1s 5us/step - loss: 0.2812 - acc: 0.8712 - val_loss: 0.2822 - val_acc: 0.8707\n",
      "Epoch 27/100\n",
      "301295/301295 [==============================] - 1s 4us/step - loss: 0.2734 - acc: 0.8744 - val_loss: 0.2755 - val_acc: 0.8736\n",
      "Epoch 28/100\n",
      "301295/301295 [==============================] - 1s 4us/step - loss: 0.2676 - acc: 0.8767 - val_loss: 0.2714 - val_acc: 0.8745\n",
      "Epoch 29/100\n",
      "301295/301295 [==============================] - 1s 4us/step - loss: 0.2629 - acc: 0.8782 - val_loss: 0.2687 - val_acc: 0.8751\n",
      "Epoch 30/100\n",
      "301295/301295 [==============================] - 1s 5us/step - loss: 0.2591 - acc: 0.8801 - val_loss: 0.2641 - val_acc: 0.8774\n",
      "Epoch 31/100\n",
      "301295/301295 [==============================] - 1s 4us/step - loss: 0.2560 - acc: 0.8813 - val_loss: 0.2598 - val_acc: 0.8795\n",
      "Epoch 32/100\n",
      "301295/301295 [==============================] - 1s 4us/step - loss: 0.2533 - acc: 0.8823 - val_loss: 0.2603 - val_acc: 0.8790\n",
      "Epoch 33/100\n",
      "301295/301295 [==============================] - 1s 5us/step - loss: 0.2509 - acc: 0.8834 - val_loss: 0.2553 - val_acc: 0.8810\n",
      "Epoch 34/100\n",
      "301295/301295 [==============================] - 1s 5us/step - loss: 0.2490 - acc: 0.8841 - val_loss: 0.2552 - val_acc: 0.8814\n",
      "Epoch 35/100\n",
      "301295/301295 [==============================] - 1s 5us/step - loss: 0.2473 - acc: 0.8849 - val_loss: 0.2535 - val_acc: 0.8824\n",
      "Epoch 36/100\n",
      "301295/301295 [==============================] - 1s 5us/step - loss: 0.2454 - acc: 0.8858 - val_loss: 0.2506 - val_acc: 0.8827\n",
      "Epoch 37/100\n",
      "301295/301295 [==============================] - 1s 4us/step - loss: 0.2442 - acc: 0.8863 - val_loss: 0.2492 - val_acc: 0.8845\n",
      "Epoch 38/100\n",
      "301295/301295 [==============================] - 1s 5us/step - loss: 0.2427 - acc: 0.8870 - val_loss: 0.2504 - val_acc: 0.8837\n",
      "Epoch 39/100\n",
      "301295/301295 [==============================] - 1s 4us/step - loss: 0.2416 - acc: 0.8877 - val_loss: 0.2503 - val_acc: 0.8836\n",
      "Epoch 40/100\n",
      "301295/301295 [==============================] - 1s 5us/step - loss: 0.2403 - acc: 0.8882 - val_loss: 0.2463 - val_acc: 0.8842\n",
      "Epoch 41/100\n",
      "301295/301295 [==============================] - 1s 5us/step - loss: 0.2393 - acc: 0.8889 - val_loss: 0.2441 - val_acc: 0.8867\n",
      "Epoch 42/100\n",
      "301295/301295 [==============================] - 1s 5us/step - loss: 0.2381 - acc: 0.8892 - val_loss: 0.2486 - val_acc: 0.8833\n",
      "Epoch 43/100\n",
      "301295/301295 [==============================] - 1s 5us/step - loss: 0.2369 - acc: 0.8897 - val_loss: 0.2447 - val_acc: 0.8852\n",
      "Epoch 44/100\n",
      "301295/301295 [==============================] - 1s 4us/step - loss: 0.2360 - acc: 0.8905 - val_loss: 0.2423 - val_acc: 0.8867\n",
      "Epoch 45/100\n",
      "301295/301295 [==============================] - 1s 4us/step - loss: 0.2348 - acc: 0.8910 - val_loss: 0.2417 - val_acc: 0.8876\n",
      "Epoch 46/100\n",
      "301295/301295 [==============================] - 1s 4us/step - loss: 0.2340 - acc: 0.8915 - val_loss: 0.2383 - val_acc: 0.8900\n",
      "Epoch 47/100\n",
      "301295/301295 [==============================] - 1s 4us/step - loss: 0.2330 - acc: 0.8920 - val_loss: 0.2398 - val_acc: 0.8887\n",
      "Epoch 48/100\n",
      "301295/301295 [==============================] - 1s 4us/step - loss: 0.2318 - acc: 0.8927 - val_loss: 0.2407 - val_acc: 0.8883\n",
      "Epoch 49/100\n",
      "301295/301295 [==============================] - 1s 4us/step - loss: 0.2310 - acc: 0.8931 - val_loss: 0.2503 - val_acc: 0.8823\n",
      "Epoch 50/100\n",
      "301295/301295 [==============================] - 1s 4us/step - loss: 0.2298 - acc: 0.8939 - val_loss: 0.2366 - val_acc: 0.8905\n",
      "Epoch 51/100\n",
      "301295/301295 [==============================] - 1s 4us/step - loss: 0.2286 - acc: 0.8949 - val_loss: 0.2440 - val_acc: 0.8870\n",
      "Epoch 52/100\n",
      "301295/301295 [==============================] - 1s 4us/step - loss: 0.2277 - acc: 0.8953 - val_loss: 0.2321 - val_acc: 0.8925\n",
      "Epoch 53/100\n",
      "301295/301295 [==============================] - 1s 4us/step - loss: 0.2267 - acc: 0.8954 - val_loss: 0.2338 - val_acc: 0.8917\n",
      "Epoch 54/100\n",
      "301295/301295 [==============================] - 1s 5us/step - loss: 0.2257 - acc: 0.8961 - val_loss: 0.2330 - val_acc: 0.8920\n",
      "Epoch 55/100\n",
      "301295/301295 [==============================] - 1s 4us/step - loss: 0.2244 - acc: 0.8973 - val_loss: 0.2383 - val_acc: 0.8889\n",
      "Epoch 56/100\n",
      "301295/301295 [==============================] - 1s 5us/step - loss: 0.2235 - acc: 0.8975 - val_loss: 0.2327 - val_acc: 0.8927\n",
      "Epoch 57/100\n",
      "301295/301295 [==============================] - 1s 5us/step - loss: 0.2225 - acc: 0.8983 - val_loss: 0.2302 - val_acc: 0.8945\n",
      "Epoch 58/100\n",
      "301295/301295 [==============================] - 1s 5us/step - loss: 0.2213 - acc: 0.8988 - val_loss: 0.2285 - val_acc: 0.8941\n",
      "Epoch 59/100\n",
      "301295/301295 [==============================] - 1s 5us/step - loss: 0.2202 - acc: 0.8994 - val_loss: 0.2289 - val_acc: 0.8941\n",
      "Epoch 60/100\n",
      "301295/301295 [==============================] - 1s 4us/step - loss: 0.2192 - acc: 0.8997 - val_loss: 0.2327 - val_acc: 0.8924\n",
      "Epoch 61/100\n",
      "301295/301295 [==============================] - 1s 4us/step - loss: 0.2179 - acc: 0.9008 - val_loss: 0.2272 - val_acc: 0.8953\n",
      "Epoch 62/100\n",
      "301295/301295 [==============================] - 1s 5us/step - loss: 0.2171 - acc: 0.9010 - val_loss: 0.2267 - val_acc: 0.8957\n",
      "Epoch 63/100\n",
      "301295/301295 [==============================] - 1s 4us/step - loss: 0.2157 - acc: 0.9020 - val_loss: 0.2226 - val_acc: 0.8981\n",
      "Epoch 64/100\n",
      "301295/301295 [==============================] - 1s 5us/step - loss: 0.2148 - acc: 0.9024 - val_loss: 0.2272 - val_acc: 0.8953\n",
      "Epoch 65/100\n",
      "301295/301295 [==============================] - 2s 5us/step - loss: 0.2137 - acc: 0.9027 - val_loss: 0.2214 - val_acc: 0.8994\n",
      "Epoch 66/100\n",
      "301295/301295 [==============================] - 2s 6us/step - loss: 0.2127 - acc: 0.9034 - val_loss: 0.2203 - val_acc: 0.8994\n",
      "Epoch 67/100\n",
      "301295/301295 [==============================] - 1s 5us/step - loss: 0.2117 - acc: 0.9037 - val_loss: 0.2194 - val_acc: 0.8992\n",
      "Epoch 68/100\n",
      "301295/301295 [==============================] - 2s 5us/step - loss: 0.2106 - acc: 0.9046 - val_loss: 0.2188 - val_acc: 0.8997\n",
      "Epoch 69/100\n",
      "301295/301295 [==============================] - 2s 5us/step - loss: 0.2094 - acc: 0.9056 - val_loss: 0.2207 - val_acc: 0.8994\n",
      "Epoch 70/100\n",
      "301295/301295 [==============================] - 2s 5us/step - loss: 0.2086 - acc: 0.9061 - val_loss: 0.2201 - val_acc: 0.8999\n",
      "Epoch 71/100\n",
      "301295/301295 [==============================] - 2s 5us/step - loss: 0.2073 - acc: 0.9067 - val_loss: 0.2193 - val_acc: 0.9005\n",
      "Epoch 72/100\n",
      "301295/301295 [==============================] - 1s 5us/step - loss: 0.2064 - acc: 0.9072 - val_loss: 0.2148 - val_acc: 0.9024\n",
      "Epoch 73/100\n",
      "301295/301295 [==============================] - 1s 5us/step - loss: 0.2053 - acc: 0.9078 - val_loss: 0.2231 - val_acc: 0.8989\n",
      "Epoch 74/100\n",
      "301295/301295 [==============================] - 2s 5us/step - loss: 0.2041 - acc: 0.9087 - val_loss: 0.2120 - val_acc: 0.9041\n",
      "Epoch 75/100\n",
      "301295/301295 [==============================] - 1s 4us/step - loss: 0.2029 - acc: 0.9093 - val_loss: 0.2143 - val_acc: 0.9036\n",
      "Epoch 76/100\n",
      "301295/301295 [==============================] - 1s 4us/step - loss: 0.2021 - acc: 0.9094 - val_loss: 0.2142 - val_acc: 0.9032\n",
      "Epoch 77/100\n",
      "301295/301295 [==============================] - 1s 5us/step - loss: 0.2009 - acc: 0.9100 - val_loss: 0.2203 - val_acc: 0.9004\n",
      "Epoch 78/100\n",
      "301295/301295 [==============================] - 1s 5us/step - loss: 0.2002 - acc: 0.9108 - val_loss: 0.2144 - val_acc: 0.9028\n",
      "Epoch 79/100\n",
      "301295/301295 [==============================] - 1s 5us/step - loss: 0.1987 - acc: 0.9113 - val_loss: 0.2117 - val_acc: 0.9052\n",
      "Epoch 80/100\n",
      "301295/301295 [==============================] - 1s 5us/step - loss: 0.1976 - acc: 0.9118 - val_loss: 0.2049 - val_acc: 0.9081\n",
      "Epoch 81/100\n",
      "301295/301295 [==============================] - 1s 5us/step - loss: 0.1965 - acc: 0.9127 - val_loss: 0.2043 - val_acc: 0.9079\n",
      "Epoch 82/100\n",
      "301295/301295 [==============================] - 1s 5us/step - loss: 0.1953 - acc: 0.9132 - val_loss: 0.2044 - val_acc: 0.9086\n",
      "Epoch 83/100\n",
      "301295/301295 [==============================] - 1s 5us/step - loss: 0.1946 - acc: 0.9137 - val_loss: 0.2112 - val_acc: 0.9057\n",
      "Epoch 84/100\n",
      "301295/301295 [==============================] - 1s 5us/step - loss: 0.1936 - acc: 0.9141 - val_loss: 0.2006 - val_acc: 0.9107\n",
      "Epoch 85/100\n",
      "301295/301295 [==============================] - 2s 5us/step - loss: 0.1922 - acc: 0.9153 - val_loss: 0.2033 - val_acc: 0.9091\n",
      "Epoch 86/100\n",
      "301295/301295 [==============================] - 1s 5us/step - loss: 0.1912 - acc: 0.9161 - val_loss: 0.2058 - val_acc: 0.9073\n",
      "Epoch 87/100\n",
      "301295/301295 [==============================] - 1s 5us/step - loss: 0.1904 - acc: 0.9159 - val_loss: 0.1996 - val_acc: 0.9115\n",
      "Epoch 88/100\n",
      "301295/301295 [==============================] - 1s 5us/step - loss: 0.1896 - acc: 0.9163 - val_loss: 0.2013 - val_acc: 0.9104\n",
      "Epoch 89/100\n",
      "301295/301295 [==============================] - 1s 5us/step - loss: 0.1883 - acc: 0.9171 - val_loss: 0.1995 - val_acc: 0.9112\n",
      "Epoch 90/100\n",
      "301295/301295 [==============================] - 1s 5us/step - loss: 0.1875 - acc: 0.9176 - val_loss: 0.1991 - val_acc: 0.9120\n",
      "Epoch 91/100\n",
      "301295/301295 [==============================] - 1s 5us/step - loss: 0.1863 - acc: 0.9181 - val_loss: 0.1952 - val_acc: 0.9145\n",
      "Epoch 92/100\n",
      "301295/301295 [==============================] - 1s 5us/step - loss: 0.1854 - acc: 0.9187 - val_loss: 0.1952 - val_acc: 0.9139\n",
      "Epoch 93/100\n",
      "301295/301295 [==============================] - 1s 5us/step - loss: 0.1841 - acc: 0.9193 - val_loss: 0.1940 - val_acc: 0.9144\n",
      "Epoch 94/100\n",
      "301295/301295 [==============================] - 1s 5us/step - loss: 0.1833 - acc: 0.9199 - val_loss: 0.1974 - val_acc: 0.9130\n",
      "Epoch 95/100\n",
      "301295/301295 [==============================] - 1s 5us/step - loss: 0.1826 - acc: 0.9200 - val_loss: 0.1951 - val_acc: 0.9135\n",
      "Epoch 96/100\n",
      "301295/301295 [==============================] - 1s 5us/step - loss: 0.1813 - acc: 0.9209 - val_loss: 0.1939 - val_acc: 0.9150\n",
      "Epoch 97/100\n",
      "301295/301295 [==============================] - 1s 5us/step - loss: 0.1801 - acc: 0.9212 - val_loss: 0.1922 - val_acc: 0.9151\n",
      "Epoch 98/100\n",
      "301295/301295 [==============================] - 1s 5us/step - loss: 0.1793 - acc: 0.9220 - val_loss: 0.1898 - val_acc: 0.9168\n",
      "Epoch 99/100\n",
      "301295/301295 [==============================] - 1s 5us/step - loss: 0.1783 - acc: 0.9223 - val_loss: 0.1886 - val_acc: 0.9178\n",
      "Epoch 100/100\n",
      "301295/301295 [==============================] - 1s 5us/step - loss: 0.1776 - acc: 0.9232 - val_loss: 0.1871 - val_acc: 0.9181\n"
     ]
    }
   ],
   "source": [
    "model = keras.Sequential()\n",
    "model.add(keras.layers.Dense(42, activation='relu', input_shape=[42])) # 42 input features\n",
    "model.add(keras.layers.Dense(30, activation='relu'))\n",
    "model.add(keras.layers.Dense(15, activation='relu'))\n",
    "model.add(keras.layers.Dense(15, activation='relu'))\n",
    "model.add(keras.layers.Dense(3, activation='softmax')) # 3 different outcomes, [tie, lose, win]\n",
    "model.compile(loss='categorical_crossentropy', optimizer='sgd', metrics=['accuracy'])\n",
    "\n",
    "# validation split = % of data we use as test set\n",
    "history = model.fit(x_train, y_train, validation_split=0.20, epochs=100, batch_size=1000, shuffle=True) "
   ]
  },
  {
   "cell_type": "code",
   "execution_count": 17,
   "metadata": {},
   "outputs": [
    {
     "name": "stdout",
     "output_type": "stream",
     "text": [
      "_________________________________________________________________\n",
      "Layer (type)                 Output Shape              Param #   \n",
      "=================================================================\n",
      "dense_1 (Dense)              (None, 42)                1806      \n",
      "_________________________________________________________________\n",
      "dense_2 (Dense)              (None, 30)                1290      \n",
      "_________________________________________________________________\n",
      "dense_3 (Dense)              (None, 15)                465       \n",
      "_________________________________________________________________\n",
      "dense_4 (Dense)              (None, 15)                240       \n",
      "_________________________________________________________________\n",
      "dense_5 (Dense)              (None, 3)                 48        \n",
      "=================================================================\n",
      "Total params: 3,849\n",
      "Trainable params: 3,849\n",
      "Non-trainable params: 0\n",
      "_________________________________________________________________\n"
     ]
    }
   ],
   "source": [
    "model.summary()"
   ]
  },
  {
   "cell_type": "markdown",
   "metadata": {},
   "source": [
    "## Print history\n",
    "Print the trainings history\n",
    "Accuracy should be increasing and loss should be decreasing overtime"
   ]
  },
  {
   "cell_type": "code",
   "execution_count": 9,
   "metadata": {},
   "outputs": [
    {
     "data": {
      "text/plain": [
       "<matplotlib.legend.Legend at 0x21a89b75eb8>"
      ]
     },
     "execution_count": 9,
     "metadata": {},
     "output_type": "execute_result"
    },
    {
     "data": {
      "image/png": "[encoded data removed]",
      "text/plain": [
       "<Figure size 1440x1440 with 2 Axes>"
      ]
     },
     "metadata": {
      "needs_background": "light"
     },
     "output_type": "display_data"
    }
   ],
   "source": [
    "plt.figure(figsize=(20,20))\n",
    "plt.subplot(221)\n",
    "plt.plot(history.history['acc'])\n",
    "plt.plot(history.history['val_acc'])\n",
    "plt.title('Accuracy')\n",
    "plt.xlabel('epoch')\n",
    "plt.ylabel('acc')\n",
    "plt.legend(['Training Accuracy', 'Validation Accuracy'], loc='upper left')\n",
    "\n",
    "plt.subplot(222)\n",
    "plt.plot(history.history['loss'])\n",
    "plt.plot(history.history['val_loss'])\n",
    "plt.title('Loss')\n",
    "plt.xlabel('epoch')\n",
    "plt.ylabel('loss')\n",
    "plt.legend(['Training Loss', 'Validation Loss'], loc='upper left')"
   ]
  },
  {
   "cell_type": "markdown",
   "metadata": {},
   "source": [
    "## Save the neural network to fileystem"
   ]
  },
  {
   "cell_type": "code",
   "execution_count": 10,
   "metadata": {},
   "outputs": [],
   "source": [
    "# save the model weights\n",
    "# H5 = Hierarchical Data Format\n",
    "# https://en.wikipedia.org/wiki/Hierarchical_Data_Format\n",
    "model.save(\"connect4predictor.H5\")"
   ]
  },
  {
   "cell_type": "code",
   "execution_count": 11,
   "metadata": {},
   "outputs": [],
   "source": [
    "mymodel = keras.models.load_model(\"connect4predictor.H5\")"
   ]
  },
  {
   "cell_type": "code",
   "execution_count": 12,
   "metadata": {},
   "outputs": [],
   "source": [
    "emptyfield = pd.DataFrame([[ 0.,  0.,  0.,  0.,  0.,  0.,  0.,  0.,  0.,  0.,  0.,  0.,  0.,  0.,  0.,  0.,  0.,  0.,\n",
    "  0.,  0.,  0.,  0.,  0.,  0.,  0.,  0.,  0.,  0.,  0.,  0.,  0.,  0.,  0.,  0.,  0., 0,\n",
    "  0.,  0.,  0.,  0.,  0.,  0.]])"
   ]
  },
  {
   "cell_type": "code",
   "execution_count": 13,
   "metadata": {},
   "outputs": [
    {
     "name": "stdout",
     "output_type": "stream",
     "text": [
      "[[1.1617401e-07 4.9381188e-01 5.0618804e-01]]\n",
      "predicted chance for tie: 1.1617400730301597e-05 %\n",
      "predicted chance for loss: 49.38118755817413 %\n",
      "predicted chance for win: 50.61880350112915 %\n",
      "highest predicted chance was found at index 2\n"
     ]
    }
   ],
   "source": [
    "empty_result = mymodel.predict(emptyfield.values)\n",
    "print(empty_result)\n",
    "print(\"predicted chance for tie:\", empty_result[0,0]*100, \"%\")\n",
    "print(\"predicted chance for loss:\", empty_result[0,1]*100, \"%\")\n",
    "print(\"predicted chance for win:\", empty_result[0,2]*100, \"%\")\n",
    "print(\"highest predicted chance was found at index\", np.argmax(empty_result))"
   ]
  },
  {
   "cell_type": "code",
   "execution_count": 14,
   "metadata": {},
   "outputs": [
    {
     "data": {
      "text/plain": [
       "(1, 42)"
      ]
     },
     "execution_count": 14,
     "metadata": {},
     "output_type": "execute_result"
    }
   ],
   "source": [
    "corners = pd.DataFrame([[ 0.,  0.,  0.,  0.,  0.,  0.,  0.,  0.,  0.,  0.,  0.,  0.,  0.,  0.,  0.,  0.,  0.,  0.,\n",
    "  0.,  0.,  0.,  0.,  0.,  0.,  0.,  0.,  0.,  0.,  0.,  0.,  0.,  0.,  0.,  0.,  0., -1.,\n",
    "  0.,  0.,  0.,  0.,  0.,  1.]])\n",
    "corners.shape"
   ]
  },
  {
   "cell_type": "code",
   "execution_count": 15,
   "metadata": {},
   "outputs": [
    {
     "name": "stdout",
     "output_type": "stream",
     "text": [
      "[[1.5272236e-07 2.0180613e-01 7.9819369e-01]]\n",
      "predicted chance for tie: 1.5272236453256482e-05 %\n",
      "predicted chance for loss: 20.180612802505493 %\n",
      "predicted chance for win: 79.81936931610107 %\n",
      "highest predicted chance was found at index 2\n"
     ]
    }
   ],
   "source": [
    "corner_result = mymodel.predict(corners.values)\n",
    "print(corner_result)\n",
    "print(\"predicted chance for tie:\", corner_result[0,0]*100, \"%\")\n",
    "print(\"predicted chance for loss:\", corner_result[0,1]*100, \"%\")\n",
    "print(\"predicted chance for win:\", corner_result[0,2]*100, \"%\")\n",
    "print(\"highest predicted chance was found at index\", np.argmax(corner_result))"
   ]
  },
  {
   "cell_type": "code",
   "execution_count": null,
   "metadata": {},
   "outputs": [],
   "source": []
  }
 ],
 "metadata": {
  "kernelspec": {
   "display_name": "Python 3",
   "language": "python",
   "name": "python3"
  },
  "language_info": {
   "codemirror_mode": {
    "name": "ipython",
    "version": 3
   },
   "file_extension": ".py",
   "mimetype": "text/x-python",
   "name": "python",
   "nbconvert_exporter": "python",
   "pygments_lexer": "ipython3",
   "version": "3.6.8"
  }
 },
 "nbformat": 4,
 "nbformat_minor": 2
}
