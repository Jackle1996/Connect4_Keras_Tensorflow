{
 "cells": [
  {
   "cell_type": "code",
   "execution_count": 2,
   "metadata": {},
   "outputs": [
    {
     "name": "stderr",
     "output_type": "stream",
     "text": [
      "Using TensorFlow backend.\n"
     ]
    }
   ],
   "source": [
    "import numpy as np\n",
    "import keras\n",
    "import matplotlib.pyplot as plt\n",
    "\n",
    "import pandas as pd\n",
    "from pathlib import Path"
   ]
  },
  {
   "attachments": {
    "image.png": {
     "image/png": "[encoded data removed]"
    }
   },
   "cell_type": "markdown",
   "metadata": {},
   "source": [
    "### Data Info\n",
    "\n",
    "The data is made up of 43 columns and 376,641 rows (first is the header).\n",
    "\n",
    "Each row is a finished game of connect-4.\n",
    "\n",
    "![image.png](attachment:image.png)\n",
    "\n",
    "Columns 1-42 represent the positions on the board going from left to right, top to bottom.\n",
    "Column 43 is the winner of the game\n",
    "\n",
    "![game board data represantation](data_field_view.png)\n",
    "\n",
    "\n",
    "Players are marked as 1 and -1, empty spaces or tie games are marked as 0.\n",
    "\n",
    "![player values on field](data_sample.png)"
   ]
  },
  {
   "cell_type": "markdown",
   "metadata": {},
   "source": [
    "## Read data"
   ]
  },
  {
   "cell_type": "code",
   "execution_count": 1,
   "metadata": {},
   "outputs": [
    {
     "ename": "NameError",
     "evalue": "name 'pd' is not defined",
     "output_type": "error",
     "traceback": [
      "\u001b[1;31m---------------------------------------------------------------------------\u001b[0m",
      "\u001b[1;31mNameError\u001b[0m                                 Traceback (most recent call last)",
      "\u001b[1;32m<ipython-input-1-3f42d006fdc1>\u001b[0m in \u001b[0;36m<module>\u001b[1;34m\u001b[0m\n\u001b[1;32m----> 1\u001b[1;33m \u001b[0mdata\u001b[0m \u001b[1;33m=\u001b[0m \u001b[0mpd\u001b[0m\u001b[1;33m.\u001b[0m\u001b[0mread_csv\u001b[0m\u001b[1;33m(\u001b[0m\u001b[1;34mr'connect4data\\c4_game_database.csv'\u001b[0m\u001b[1;33m,\u001b[0m \u001b[0msep\u001b[0m\u001b[1;33m=\u001b[0m\u001b[1;34m','\u001b[0m\u001b[1;33m,\u001b[0m \u001b[0mheader\u001b[0m\u001b[1;33m=\u001b[0m\u001b[1;32mNone\u001b[0m\u001b[1;33m,\u001b[0m \u001b[0mskiprows\u001b[0m\u001b[1;33m=\u001b[0m\u001b[1;33m[\u001b[0m\u001b[1;36m0\u001b[0m\u001b[1;33m]\u001b[0m\u001b[1;33m)\u001b[0m\u001b[1;33m\u001b[0m\u001b[1;33m\u001b[0m\u001b[0m\n\u001b[0m\u001b[0;32m      2\u001b[0m \u001b[1;33m\u001b[0m\u001b[0m\n\u001b[0;32m      3\u001b[0m \u001b[0mprint\u001b[0m\u001b[1;33m(\u001b[0m\u001b[0mdata\u001b[0m\u001b[1;33m)\u001b[0m\u001b[1;33m\u001b[0m\u001b[1;33m\u001b[0m\u001b[0m\n\u001b[0;32m      4\u001b[0m \u001b[0mdata\u001b[0m\u001b[1;33m.\u001b[0m\u001b[0mshape\u001b[0m\u001b[1;33m\u001b[0m\u001b[1;33m\u001b[0m\u001b[0m\n",
      "\u001b[1;31mNameError\u001b[0m: name 'pd' is not defined"
     ]
    }
   ],
   "source": [
    "data = pd.read_csv(r'connect4data\\c4_game_database.csv', sep=',', header=None, skiprows=[0])\n",
    "\n",
    "print(data) \n",
    "data.shape"
   ]
  },
  {
   "cell_type": "markdown",
   "metadata": {},
   "source": [
    "## Data Cleaning\n",
    "Remove faulty data, what shall be deleted?\n",
    "(Hint: dataframe.dropna())"
   ]
  },
  {
   "cell_type": "code",
   "execution_count": 3,
   "metadata": {},
   "outputs": [
    {
     "name": "stdout",
     "output_type": "stream",
     "text": [
      "dropped 21 rows with NaN values\n"
     ]
    }
   ],
   "source": [
    "x1 ,y1 = data.shape\n",
    "data = data.dropna(axis=0)\n",
    "x2 ,y2 = data.shape\n",
    "print(\"dropped {} rows with NaN values\".format(x1-x2))"
   ]
  },
  {
   "cell_type": "code",
   "execution_count": 4,
   "metadata": {},
   "outputs": [
    {
     "name": "stdout",
     "output_type": "stream",
     "text": [
      "delete 0 duplicate rows\n"
     ]
    }
   ],
   "source": [
    "x1 ,y1 = data.shape\n",
    "data = data.drop_duplicates()\n",
    "x2 ,y2 = data.shape\n",
    "print(\"delete {} duplicate rows\".format(x1-x2))"
   ]
  },
  {
   "cell_type": "markdown",
   "metadata": {},
   "source": [
    "## Extract the winner values (y_train)\n",
    "Help for \"Python Slice Notation\": https://stackoverflow.com/a/509295/11341158"
   ]
  },
  {
   "cell_type": "code",
   "execution_count": 5,
   "metadata": {},
   "outputs": [
    {
     "name": "stdout",
     "output_type": "stream",
     "text": [
      "[[0. 0. 1.]\n",
      " [0. 1. 0.]\n",
      " [0. 0. 1.]\n",
      " ...\n",
      " [0. 0. 1.]\n",
      " [0. 0. 1.]\n",
      " [0. 1. 0.]]\n"
     ]
    }
   ],
   "source": [
    "# extract winner from data \n",
    "winner = data.values[:, -1] # y_labels\n",
    "\n",
    "# converts data to hot encoded array (keras needs this to classify, ML friendly format)\n",
    "y_train = keras.utils.to_categorical(winner, num_classes=3) \n",
    "# [1 0 0] = tie (=0)\n",
    "# [0 1 0] = bot loses  (=1)\n",
    "# [0 0 1] = bot wins (=-1)\n",
    "print(y_train)"
   ]
  },
  {
   "cell_type": "markdown",
   "metadata": {},
   "source": [
    "## Extract the training data (x_train)\n",
    "Data without information about the winner (since we want to predict the winner)\n",
    "\n",
    "\n",
    "Help for \"Python Slice Notation\": https://stackoverflow.com/a/509295/11341158"
   ]
  },
  {
   "cell_type": "code",
   "execution_count": 6,
   "metadata": {},
   "outputs": [
    {
     "name": "stdout",
     "output_type": "stream",
     "text": [
      "(376619, 42)\n"
     ]
    },
    {
     "data": {
      "text/plain": [
       "array([[ 1.,  1.,  1., ..., -1.,  1., -1.],\n",
       "       [ 0.,  0.,  1., ...,  1.,  1., -1.],\n",
       "       [ 0.,  1.,  0., ..., -1., -1., -1.],\n",
       "       ...,\n",
       "       [ 0.,  0.,  1., ...,  1.,  1., -1.],\n",
       "       [ 0.,  0.,  0., ...,  1., -1.,  0.],\n",
       "       [ 0.,  0.,  0., ..., -1.,  1., -1.]])"
      ]
     },
     "execution_count": 6,
     "metadata": {},
     "output_type": "execute_result"
    }
   ],
   "source": [
    "x_train = data.values[:,:-1]\n",
    "print(x_train.shape)\n",
    "x_train"
   ]
  },
  {
   "cell_type": "markdown",
   "metadata": {},
   "source": [
    "## Data Normalization\n",
    "Normalize your data as seen in the presentation"
   ]
  },
  {
   "cell_type": "code",
   "execution_count": 7,
   "metadata": {},
   "outputs": [
    {
     "data": {
      "text/plain": [
       "array([[ 2.71113614e+00,  2.10046212e+00,  1.82010676e+00, ...,\n",
       "        -1.02161653e+00,  1.07250685e+00, -1.13875637e+00],\n",
       "       [ 2.81892403e-03,  2.40657003e-03,  1.82010676e+00, ...,\n",
       "         1.02018528e+00,  1.07250685e+00, -1.13875637e+00],\n",
       "       [ 2.81892403e-03,  2.10046212e+00, -5.80115248e-04, ...,\n",
       "        -1.02161653e+00, -1.06943571e+00, -1.13875637e+00],\n",
       "       ...,\n",
       "       [ 2.81892403e-03,  2.40657003e-03,  1.82010676e+00, ...,\n",
       "         1.02018528e+00,  1.07250685e+00, -1.13875637e+00],\n",
       "       [ 2.81892403e-03,  2.40657003e-03, -5.80115248e-04, ...,\n",
       "         1.02018528e+00, -1.06943571e+00,  3.24754245e-03],\n",
       "       [ 2.81892403e-03,  2.40657003e-03, -5.80115248e-04, ...,\n",
       "        -1.02161653e+00,  1.07250685e+00, -1.13875637e+00]])"
      ]
     },
     "execution_count": 7,
     "metadata": {},
     "output_type": "execute_result"
    }
   ],
   "source": [
    "from sklearn.preprocessing import StandardScaler\n",
    "scaler = StandardScaler()\n",
    "x_train = scaler.fit_transform(x_train)\n",
    "x_train"
   ]
  },
  {
   "cell_type": "markdown",
   "metadata": {},
   "source": [
    "## Train the model\n",
    "\n",
    "### Add layers\n",
    "\n",
    "``` python\n",
    "# model.add(keras.layers.Dense(\"amount of neurons\", activation=\"activation function\"))\n",
    "model.add(keras.layers.Dense(10, activation='relu'))\n",
    "```\n",
    "\n",
    "### Train your model\n",
    "``` python \n",
    "#sample: history = model.fit(x_train, y_train, validation_split=0.20, epochs=100, batch_size=1000, shuffle=True)\n",
    "history = model.fit(x_train, y_train, validation_split=0.20, epochs=???, batch_size=???, shuffle=True)\n",
    "```"
   ]
  },
  {
   "cell_type": "code",
   "execution_count": 8,
   "metadata": {},
   "outputs": [
    {
     "name": "stdout",
     "output_type": "stream",
     "text": [
      "Train on 301295 samples, validate on 75324 samples\n",
      "Epoch 1/100\n",
      "301295/301295 [==============================] - 2s 6us/step - loss: 0.9289 - acc: 0.4810 - val_loss: 0.8632 - val_acc: 0.4994\n",
      "Epoch 2/100\n",
      "301295/301295 [==============================] - 2s 5us/step - loss: 0.8495 - acc: 0.5113 - val_loss: 0.8454 - val_acc: 0.5182\n",
      "Epoch 3/100\n",
      "301295/301295 [==============================] - 2s 5us/step - loss: 0.8334 - acc: 0.5318 - val_loss: 0.8301 - val_acc: 0.5384\n",
      "Epoch 4/100\n",
      "301295/301295 [==============================] - 2s 5us/step - loss: 0.8173 - acc: 0.5521 - val_loss: 0.8129 - val_acc: 0.5586\n",
      "Epoch 5/100\n",
      "301295/301295 [==============================] - 2s 5us/step - loss: 0.7984 - acc: 0.5735 - val_loss: 0.7920 - val_acc: 0.5816\n",
      "Epoch 6/100\n",
      "301295/301295 [==============================] - 2s 5us/step - loss: 0.7754 - acc: 0.5959 - val_loss: 0.7669 - val_acc: 0.6037\n",
      "Epoch 7/100\n",
      "301295/301295 [==============================] - 2s 5us/step - loss: 0.7493 - acc: 0.6177 - val_loss: 0.7398 - val_acc: 0.6244\n",
      "Epoch 8/100\n",
      "301295/301295 [==============================] - 2s 6us/step - loss: 0.7219 - acc: 0.6363 - val_loss: 0.7120 - val_acc: 0.6424\n",
      "Epoch 9/100\n",
      "301295/301295 [==============================] - 2s 5us/step - loss: 0.6943 - acc: 0.6518 - val_loss: 0.6846 - val_acc: 0.6589\n",
      "Epoch 10/100\n",
      "301295/301295 [==============================] - 2s 5us/step - loss: 0.6679 - acc: 0.6673 - val_loss: 0.6593 - val_acc: 0.6733\n",
      "Epoch 11/100\n",
      "301295/301295 [==============================] - 2s 5us/step - loss: 0.6439 - acc: 0.6807 - val_loss: 0.6368 - val_acc: 0.6861\n",
      "Epoch 12/100\n",
      "301295/301295 [==============================] - 2s 5us/step - loss: 0.6222 - acc: 0.6930 - val_loss: 0.6157 - val_acc: 0.6989\n",
      "Epoch 13/100\n",
      "301295/301295 [==============================] - 2s 5us/step - loss: 0.6006 - acc: 0.7058 - val_loss: 0.5938 - val_acc: 0.7128\n",
      "Epoch 14/100\n",
      "301295/301295 [==============================] - 2s 5us/step - loss: 0.5772 - acc: 0.7205 - val_loss: 0.5691 - val_acc: 0.7287\n",
      "Epoch 15/100\n",
      "301295/301295 [==============================] - 2s 5us/step - loss: 0.5489 - acc: 0.7386 - val_loss: 0.5373 - val_acc: 0.7479\n",
      "Epoch 16/100\n",
      "301295/301295 [==============================] - 2s 6us/step - loss: 0.5112 - acc: 0.7636 - val_loss: 0.4937 - val_acc: 0.7744\n",
      "Epoch 17/100\n",
      "301295/301295 [==============================] - 2s 5us/step - loss: 0.4606 - acc: 0.7944 - val_loss: 0.4384 - val_acc: 0.8064\n",
      "Epoch 18/100\n",
      "301295/301295 [==============================] - 2s 5us/step - loss: 0.4048 - acc: 0.8225 - val_loss: 0.3856 - val_acc: 0.8308\n",
      "Epoch 19/100\n",
      "301295/301295 [==============================] - 2s 5us/step - loss: 0.3588 - acc: 0.8421 - val_loss: 0.3453 - val_acc: 0.8481\n",
      "Epoch 20/100\n",
      "301295/301295 [==============================] - 2s 6us/step - loss: 0.3265 - acc: 0.8545 - val_loss: 0.3192 - val_acc: 0.8577\n",
      "Epoch 21/100\n",
      "301295/301295 [==============================] - 2s 7us/step - loss: 0.3048 - acc: 0.8624 - val_loss: 0.3024 - val_acc: 0.8640\n",
      "Epoch 22/100\n",
      "301295/301295 [==============================] - 2s 7us/step - loss: 0.2902 - acc: 0.8675 - val_loss: 0.2904 - val_acc: 0.8687\n",
      "Epoch 23/100\n",
      "301295/301295 [==============================] - 2s 6us/step - loss: 0.2801 - acc: 0.8711 - val_loss: 0.2819 - val_acc: 0.8719\n",
      "Epoch 24/100\n",
      "301295/301295 [==============================] - 2s 6us/step - loss: 0.2727 - acc: 0.8748 - val_loss: 0.2756 - val_acc: 0.8736\n",
      "Epoch 25/100\n",
      "301295/301295 [==============================] - 2s 6us/step - loss: 0.2669 - acc: 0.8771 - val_loss: 0.2697 - val_acc: 0.8773\n",
      "Epoch 26/100\n",
      "301295/301295 [==============================] - 2s 6us/step - loss: 0.2622 - acc: 0.8793 - val_loss: 0.2656 - val_acc: 0.8793\n",
      "Epoch 27/100\n",
      "301295/301295 [==============================] - 2s 6us/step - loss: 0.2584 - acc: 0.8811 - val_loss: 0.2614 - val_acc: 0.8800\n",
      "Epoch 28/100\n",
      "301295/301295 [==============================] - 2s 6us/step - loss: 0.2549 - acc: 0.8826 - val_loss: 0.2599 - val_acc: 0.8807\n",
      "Epoch 29/100\n",
      "301295/301295 [==============================] - 2s 6us/step - loss: 0.2521 - acc: 0.8843 - val_loss: 0.2552 - val_acc: 0.8829\n",
      "Epoch 30/100\n",
      "301295/301295 [==============================] - 2s 5us/step - loss: 0.2496 - acc: 0.8853 - val_loss: 0.2537 - val_acc: 0.8841\n",
      "Epoch 31/100\n",
      "301295/301295 [==============================] - 2s 5us/step - loss: 0.2471 - acc: 0.8868 - val_loss: 0.2518 - val_acc: 0.8852\n",
      "Epoch 32/100\n",
      "301295/301295 [==============================] - 2s 5us/step - loss: 0.2445 - acc: 0.8878 - val_loss: 0.2492 - val_acc: 0.8867\n",
      "Epoch 33/100\n",
      "301295/301295 [==============================] - 2s 5us/step - loss: 0.2424 - acc: 0.8890 - val_loss: 0.2479 - val_acc: 0.8870\n",
      "Epoch 34/100\n",
      "301295/301295 [==============================] - 2s 5us/step - loss: 0.2403 - acc: 0.8900 - val_loss: 0.2448 - val_acc: 0.8881\n",
      "Epoch 35/100\n",
      "301295/301295 [==============================] - 2s 5us/step - loss: 0.2384 - acc: 0.8911 - val_loss: 0.2456 - val_acc: 0.8876\n",
      "Epoch 36/100\n",
      "301295/301295 [==============================] - 2s 5us/step - loss: 0.2366 - acc: 0.8920 - val_loss: 0.2403 - val_acc: 0.8908\n",
      "Epoch 37/100\n",
      "301295/301295 [==============================] - 2s 5us/step - loss: 0.2346 - acc: 0.8927 - val_loss: 0.2414 - val_acc: 0.8899\n",
      "Epoch 38/100\n",
      "301295/301295 [==============================] - 2s 5us/step - loss: 0.2326 - acc: 0.8943 - val_loss: 0.2421 - val_acc: 0.8891\n",
      "Epoch 39/100\n",
      "301295/301295 [==============================] - 2s 5us/step - loss: 0.2313 - acc: 0.8949 - val_loss: 0.2374 - val_acc: 0.8918\n",
      "Epoch 40/100\n",
      "301295/301295 [==============================] - 2s 6us/step - loss: 0.2294 - acc: 0.8957 - val_loss: 0.2336 - val_acc: 0.8942\n",
      "Epoch 41/100\n",
      "301295/301295 [==============================] - 2s 5us/step - loss: 0.2276 - acc: 0.8962 - val_loss: 0.2327 - val_acc: 0.8946\n",
      "Epoch 42/100\n",
      "301295/301295 [==============================] - 2s 5us/step - loss: 0.2262 - acc: 0.8971 - val_loss: 0.2327 - val_acc: 0.8948\n",
      "Epoch 43/100\n",
      "301295/301295 [==============================] - 2s 5us/step - loss: 0.2245 - acc: 0.8982 - val_loss: 0.2322 - val_acc: 0.8943\n",
      "Epoch 44/100\n",
      "301295/301295 [==============================] - 2s 5us/step - loss: 0.2231 - acc: 0.8991 - val_loss: 0.2383 - val_acc: 0.8919\n",
      "Epoch 45/100\n",
      "301295/301295 [==============================] - 2s 5us/step - loss: 0.2217 - acc: 0.8996 - val_loss: 0.2345 - val_acc: 0.8923\n",
      "Epoch 46/100\n",
      "301295/301295 [==============================] - 2s 6us/step - loss: 0.2200 - acc: 0.9009 - val_loss: 0.2260 - val_acc: 0.8986\n",
      "Epoch 47/100\n",
      "301295/301295 [==============================] - 2s 6us/step - loss: 0.2185 - acc: 0.9015 - val_loss: 0.2252 - val_acc: 0.8989\n",
      "Epoch 48/100\n",
      "301295/301295 [==============================] - 2s 5us/step - loss: 0.2171 - acc: 0.9024 - val_loss: 0.2220 - val_acc: 0.8996\n",
      "Epoch 49/100\n",
      "301295/301295 [==============================] - 2s 6us/step - loss: 0.2159 - acc: 0.9025 - val_loss: 0.2221 - val_acc: 0.9001\n",
      "Epoch 50/100\n",
      "301295/301295 [==============================] - 2s 5us/step - loss: 0.2143 - acc: 0.9033 - val_loss: 0.2399 - val_acc: 0.8902\n",
      "Epoch 51/100\n",
      "301295/301295 [==============================] - 2s 6us/step - loss: 0.2132 - acc: 0.9043 - val_loss: 0.2218 - val_acc: 0.8988\n",
      "Epoch 52/100\n",
      "301295/301295 [==============================] - 2s 6us/step - loss: 0.2118 - acc: 0.9049 - val_loss: 0.2162 - val_acc: 0.9036\n",
      "Epoch 53/100\n",
      "301295/301295 [==============================] - 2s 6us/step - loss: 0.2100 - acc: 0.9056 - val_loss: 0.2180 - val_acc: 0.9015\n",
      "Epoch 54/100\n",
      "301295/301295 [==============================] - 2s 6us/step - loss: 0.2093 - acc: 0.9064 - val_loss: 0.2205 - val_acc: 0.9006\n",
      "Epoch 55/100\n",
      "301295/301295 [==============================] - 2s 5us/step - loss: 0.2079 - acc: 0.9069 - val_loss: 0.2173 - val_acc: 0.9030\n",
      "Epoch 56/100\n",
      "301295/301295 [==============================] - 2s 5us/step - loss: 0.2064 - acc: 0.9075 - val_loss: 0.2133 - val_acc: 0.9036\n",
      "Epoch 57/100\n",
      "301295/301295 [==============================] - 2s 5us/step - loss: 0.2056 - acc: 0.9079 - val_loss: 0.2119 - val_acc: 0.9052\n",
      "Epoch 58/100\n",
      "301295/301295 [==============================] - 2s 5us/step - loss: 0.2042 - acc: 0.9089 - val_loss: 0.2195 - val_acc: 0.9011\n",
      "Epoch 59/100\n",
      "301295/301295 [==============================] - 2s 5us/step - loss: 0.2037 - acc: 0.9089 - val_loss: 0.2112 - val_acc: 0.9054\n",
      "Epoch 60/100\n",
      "301295/301295 [==============================] - 2s 5us/step - loss: 0.2021 - acc: 0.9100 - val_loss: 0.2071 - val_acc: 0.9080\n",
      "Epoch 61/100\n",
      "301295/301295 [==============================] - 2s 5us/step - loss: 0.2011 - acc: 0.9107 - val_loss: 0.2119 - val_acc: 0.9052\n",
      "Epoch 62/100\n",
      "301295/301295 [==============================] - 2s 5us/step - loss: 0.1998 - acc: 0.9115 - val_loss: 0.2058 - val_acc: 0.9080\n",
      "Epoch 63/100\n",
      "301295/301295 [==============================] - 2s 5us/step - loss: 0.1991 - acc: 0.9121 - val_loss: 0.2180 - val_acc: 0.9024\n",
      "Epoch 64/100\n",
      "301295/301295 [==============================] - 2s 5us/step - loss: 0.1976 - acc: 0.9122 - val_loss: 0.2194 - val_acc: 0.9019\n",
      "Epoch 65/100\n",
      "301295/301295 [==============================] - 2s 6us/step - loss: 0.1966 - acc: 0.9129 - val_loss: 0.2009 - val_acc: 0.9113\n",
      "Epoch 66/100\n",
      "301295/301295 [==============================] - 2s 5us/step - loss: 0.1952 - acc: 0.9140 - val_loss: 0.2019 - val_acc: 0.9112\n",
      "Epoch 67/100\n",
      "301295/301295 [==============================] - 2s 6us/step - loss: 0.1946 - acc: 0.9142 - val_loss: 0.2033 - val_acc: 0.9099\n",
      "Epoch 68/100\n",
      "301295/301295 [==============================] - 2s 6us/step - loss: 0.1939 - acc: 0.9148 - val_loss: 0.2161 - val_acc: 0.9033\n",
      "Epoch 69/100\n",
      "301295/301295 [==============================] - 2s 5us/step - loss: 0.1925 - acc: 0.9157 - val_loss: 0.1978 - val_acc: 0.9134\n",
      "Epoch 70/100\n",
      "301295/301295 [==============================] - 2s 5us/step - loss: 0.1916 - acc: 0.9153 - val_loss: 0.2242 - val_acc: 0.8986\n",
      "Epoch 71/100\n",
      "301295/301295 [==============================] - 2s 5us/step - loss: 0.1904 - acc: 0.9166 - val_loss: 0.1976 - val_acc: 0.9130\n",
      "Epoch 72/100\n",
      "301295/301295 [==============================] - 2s 5us/step - loss: 0.1895 - acc: 0.9169 - val_loss: 0.2001 - val_acc: 0.9116\n",
      "Epoch 73/100\n",
      "301295/301295 [==============================] - 2s 6us/step - loss: 0.1887 - acc: 0.9174 - val_loss: 0.2046 - val_acc: 0.9103\n",
      "Epoch 74/100\n",
      "301295/301295 [==============================] - 2s 6us/step - loss: 0.1875 - acc: 0.9182 - val_loss: 0.2229 - val_acc: 0.8994\n",
      "Epoch 75/100\n",
      "301295/301295 [==============================] - 2s 6us/step - loss: 0.1871 - acc: 0.9184 - val_loss: 0.1976 - val_acc: 0.9124\n",
      "Epoch 76/100\n",
      "301295/301295 [==============================] - 2s 6us/step - loss: 0.1860 - acc: 0.9191 - val_loss: 0.1959 - val_acc: 0.9133\n",
      "Epoch 77/100\n",
      "301295/301295 [==============================] - 2s 6us/step - loss: 0.1851 - acc: 0.9192 - val_loss: 0.2001 - val_acc: 0.9117\n",
      "Epoch 78/100\n",
      "301295/301295 [==============================] - 2s 6us/step - loss: 0.1842 - acc: 0.9201 - val_loss: 0.1899 - val_acc: 0.9168\n",
      "Epoch 79/100\n",
      "301295/301295 [==============================] - 2s 5us/step - loss: 0.1833 - acc: 0.9207 - val_loss: 0.1953 - val_acc: 0.9150\n",
      "Epoch 80/100\n",
      "301295/301295 [==============================] - 2s 6us/step - loss: 0.1827 - acc: 0.9210 - val_loss: 0.1936 - val_acc: 0.9142\n",
      "Epoch 81/100\n",
      "301295/301295 [==============================] - 2s 6us/step - loss: 0.1818 - acc: 0.9209 - val_loss: 0.1921 - val_acc: 0.9168\n",
      "Epoch 82/100\n",
      "301295/301295 [==============================] - 2s 7us/step - loss: 0.1808 - acc: 0.9212 - val_loss: 0.1948 - val_acc: 0.9139\n",
      "Epoch 83/100\n",
      "301295/301295 [==============================] - 2s 7us/step - loss: 0.1800 - acc: 0.9219 - val_loss: 0.1898 - val_acc: 0.9179\n",
      "Epoch 84/100\n",
      "301295/301295 [==============================] - 2s 6us/step - loss: 0.1796 - acc: 0.9221 - val_loss: 0.1864 - val_acc: 0.9190\n",
      "Epoch 85/100\n",
      "301295/301295 [==============================] - 2s 5us/step - loss: 0.1783 - acc: 0.9230 - val_loss: 0.1923 - val_acc: 0.9158\n",
      "Epoch 86/100\n",
      "301295/301295 [==============================] - 2s 5us/step - loss: 0.1784 - acc: 0.9225 - val_loss: 0.1873 - val_acc: 0.9177\n",
      "Epoch 87/100\n",
      "301295/301295 [==============================] - 2s 5us/step - loss: 0.1772 - acc: 0.9236 - val_loss: 0.1896 - val_acc: 0.9171\n",
      "Epoch 88/100\n",
      "301295/301295 [==============================] - 2s 5us/step - loss: 0.1768 - acc: 0.9235 - val_loss: 0.1888 - val_acc: 0.9177\n",
      "Epoch 89/100\n",
      "301295/301295 [==============================] - 2s 6us/step - loss: 0.1759 - acc: 0.9239 - val_loss: 0.1857 - val_acc: 0.9199\n",
      "Epoch 90/100\n",
      "301295/301295 [==============================] - 2s 6us/step - loss: 0.1756 - acc: 0.9240 - val_loss: 0.1884 - val_acc: 0.9178\n",
      "Epoch 91/100\n",
      "301295/301295 [==============================] - 2s 6us/step - loss: 0.1745 - acc: 0.9246 - val_loss: 0.1855 - val_acc: 0.9193\n",
      "Epoch 92/100\n",
      "301295/301295 [==============================] - 2s 6us/step - loss: 0.1743 - acc: 0.9250 - val_loss: 0.1806 - val_acc: 0.9214\n",
      "Epoch 93/100\n",
      "301295/301295 [==============================] - 2s 5us/step - loss: 0.1729 - acc: 0.9255 - val_loss: 0.1860 - val_acc: 0.9178\n",
      "Epoch 94/100\n",
      "301295/301295 [==============================] - 2s 5us/step - loss: 0.1727 - acc: 0.9255 - val_loss: 0.1819 - val_acc: 0.9218\n",
      "Epoch 95/100\n",
      "301295/301295 [==============================] - 2s 6us/step - loss: 0.1717 - acc: 0.9261 - val_loss: 0.1854 - val_acc: 0.9198\n",
      "Epoch 96/100\n",
      "301295/301295 [==============================] - 2s 6us/step - loss: 0.1710 - acc: 0.9260 - val_loss: 0.1835 - val_acc: 0.9204\n",
      "Epoch 97/100\n",
      "301295/301295 [==============================] - 2s 5us/step - loss: 0.1709 - acc: 0.9264 - val_loss: 0.1855 - val_acc: 0.9201\n",
      "Epoch 98/100\n",
      "301295/301295 [==============================] - 2s 5us/step - loss: 0.1699 - acc: 0.9268 - val_loss: 0.1805 - val_acc: 0.9219\n",
      "Epoch 99/100\n",
      "301295/301295 [==============================] - 2s 5us/step - loss: 0.1695 - acc: 0.9268 - val_loss: 0.1828 - val_acc: 0.9208\n",
      "Epoch 100/100\n",
      "301295/301295 [==============================] - 2s 5us/step - loss: 0.1683 - acc: 0.9274 - val_loss: 0.1771 - val_acc: 0.9238\n"
     ]
    }
   ],
   "source": [
    "model = keras.Sequential()\n",
    "model.add(keras.layers.Dense(42, activation='relu', input_shape=[42])) # 42 input features\n",
    "model.add(keras.layers.Dense(30, activation='relu'))\n",
    "model.add(keras.layers.Dense(15, activation='relu'))\n",
    "model.add(keras.layers.Dense(15, activation='relu'))\n",
    "model.add(keras.layers.Dense(3, activation='softmax')) # 3 different outcomes, [tie, lose, win]\n",
    "model.compile(loss='categorical_crossentropy', optimizer='sgd', metrics=['accuracy'])\n",
    "\n",
    "# validation split = % of data we use as test set\n",
    "history = model.fit(x_train, y_train, validation_split=0.20, epochs=100, batch_size=1000, shuffle=True) "
   ]
  },
  {
   "cell_type": "markdown",
   "metadata": {},
   "source": [
    "## Print history\n",
    "Print the trainings history\n",
    "Accuracy should be increasing and loss should be decreasing overtime"
   ]
  },
  {
   "cell_type": "code",
   "execution_count": 9,
   "metadata": {},
   "outputs": [
    {
     "data": {
      "text/plain": [
       "<matplotlib.legend.Legend at 0x1ec11594908>"
      ]
     },
     "execution_count": 9,
     "metadata": {},
     "output_type": "execute_result"
    },
    {
     "data": {
      "image/png": "[encoded data removed]",
      "text/plain": [
       "<Figure size 1440x1440 with 2 Axes>"
      ]
     },
     "metadata": {
      "needs_background": "light"
     },
     "output_type": "display_data"
    }
   ],
   "source": [
    "plt.figure(figsize=(20,20))\n",
    "plt.subplot(221)\n",
    "plt.plot(history.history['acc'])\n",
    "plt.plot(history.history['val_acc'])\n",
    "plt.title('Accuracy')\n",
    "plt.xlabel('epoch')\n",
    "plt.ylabel('acc')\n",
    "plt.legend(['Training Accuracy', 'Validation Accuracy'], loc='upper left')\n",
    "\n",
    "plt.subplot(222)\n",
    "plt.plot(history.history['loss'])\n",
    "plt.plot(history.history['val_loss'])\n",
    "plt.title('Loss')\n",
    "plt.xlabel('epoch')\n",
    "plt.ylabel('loss')\n",
    "plt.legend(['Training Loss', 'Validation Loss'], loc='upper left')"
   ]
  },
  {
   "cell_type": "markdown",
   "metadata": {},
   "source": [
    "## Save the neural network to fileystem"
   ]
  },
  {
   "cell_type": "code",
   "execution_count": 10,
   "metadata": {},
   "outputs": [],
   "source": [
    "# save the model weights\n",
    "# H5 = Hierarchical Data Format\n",
    "# https://en.wikipedia.org/wiki/Hierarchical_Data_Format\n",
    "model.save(\"connect4predictor.H5\")"
   ]
  },
  {
   "cell_type": "code",
   "execution_count": 11,
   "metadata": {},
   "outputs": [],
   "source": [
    "mymodel = keras.models.load_model(\"connect4predictor.H5\")"
   ]
  },
  {
   "cell_type": "code",
   "execution_count": 12,
   "metadata": {},
   "outputs": [],
   "source": [
    "emptyfield = pd.DataFrame([[ 0.,  0.,  0.,  0.,  0.,  0.,  0.,  0.,  0.,  0.,  0.,  0.,  0.,  0.,  0.,  0.,  0.,  0.,\n",
    "  0.,  0.,  0.,  0.,  0.,  0.,  0.,  0.,  0.,  0.,  0.,  0.,  0.,  0.,  0.,  0.,  0., 0,\n",
    "  0.,  0.,  0.,  0.,  0.,  0.]])"
   ]
  },
  {
   "cell_type": "code",
   "execution_count": 13,
   "metadata": {},
   "outputs": [
    {
     "name": "stdout",
     "output_type": "stream",
     "text": [
      "[[1.5198556e-07 6.8530333e-01 3.1469652e-01]]\n",
      "predicted chance for tie: 1.5198556013729103e-05 %\n",
      "predicted chance for loss: 68.53033304214478 %\n",
      "predicted chance for win: 31.46965205669403 %\n",
      "highest predicted chance was found at index 1\n"
     ]
    }
   ],
   "source": [
    "empty_result = mymodel.predict(emptyfield.values)\n",
    "print(empty_result)\n",
    "print(\"predicted chance for tie:\", empty_result[0,0]*100, \"%\")\n",
    "print(\"predicted chance for loss:\", empty_result[0,1]*100, \"%\")\n",
    "print(\"predicted chance for win:\", empty_result[0,2]*100, \"%\")\n",
    "print(\"highest predicted chance was found at index\", np.argmax(empty_result))"
   ]
  },
  {
   "cell_type": "code",
   "execution_count": 14,
   "metadata": {},
   "outputs": [
    {
     "data": {
      "text/plain": [
       "(1, 42)"
      ]
     },
     "execution_count": 14,
     "metadata": {},
     "output_type": "execute_result"
    }
   ],
   "source": [
    "corners = pd.DataFrame([[ 0.,  0.,  0.,  0.,  0.,  0.,  0.,  0.,  0.,  0.,  0.,  0.,  0.,  0.,  0.,  0.,  0.,  0.,\n",
    "  0.,  0.,  0.,  0.,  0.,  0.,  0.,  0.,  0.,  0.,  0.,  0.,  0.,  0.,  0.,  0.,  0., -1.,\n",
    "  0.,  0.,  0.,  0.,  0.,  1.]])\n",
    "corners.shape"
   ]
  },
  {
   "cell_type": "code",
   "execution_count": 15,
   "metadata": {},
   "outputs": [
    {
     "name": "stdout",
     "output_type": "stream",
     "text": [
      "[[1.0699428e-07 2.6515871e-01 7.3484123e-01]]\n",
      "predicted chance for tie: 1.069942783260558e-05 %\n",
      "predicted chance for loss: 26.515871286392212 %\n",
      "predicted chance for win: 73.48412275314331 %\n",
      "highest predicted chance was found at index 2\n"
     ]
    }
   ],
   "source": [
    "corner_result = mymodel.predict(corners.values)\n",
    "print(corner_result)\n",
    "print(\"predicted chance for tie:\", corner_result[0,0]*100, \"%\")\n",
    "print(\"predicted chance for loss:\", corner_result[0,1]*100, \"%\")\n",
    "print(\"predicted chance for win:\", corner_result[0,2]*100, \"%\")\n",
    "print(\"highest predicted chance was found at index\", np.argmax(corner_result))"
   ]
  },
  {
   "cell_type": "markdown",
   "metadata": {},
   "source": [
    "|Color|\n",
    "|--- |\n",
    "|Red|\n",
    "|Green|\n",
    "|Blue|\n",
    "\n",
    "|Color|Price| \n",
    "|---|---| \n",
    "|Red|CHF 10000| \n",
    "|Red|CHF 20000| \n",
    "|Red|CHF 30000| \n",
    "|Green|CHF 10000| \n",
    "|Green|CHF 20000| \n",
    "|Green|CHF 30000| \n",
    "|Blue|CHF 10000| \n",
    "|Blue|CHF 20000| \n",
    "|Blue|CHF 30000|\n",
    "\n",
    "\n",
    "|Color|Price|Year| \n",
    "|---|---|---| \n",
    "|Red|CHF 10000|2019 \n",
    "|Red|CHF 10000|2018 \n",
    "|Red|CHF 10000|2017\n",
    "|Red|CHF 20000|2019\n",
    "|Red|CHF 20000|2018 \n",
    "|Red|CHF 20000|2017\n",
    "|Red|CHF 30000|2019 \n",
    "|Red|CHF 30000|2018 \n",
    "|Red|CHF 30000|2017\n",
    "|Green|CHF 10000|2019 \n",
    "|Green|CHF 10000|2018 \n",
    "|Green|CHF 10000|2017\n",
    "|Green|CHF 20000|2019 \n",
    "|Green|CHF 20000|2018 \n",
    "|Green|CHF 20000|2017 \n",
    "|Green|CHF 30000|2019 \n",
    "|Green|CHF 30000|2018 \n",
    "|Green|CHF 30000|2017 \n",
    "|Blue|CHF 10000|2019 \n",
    "|Blue|CHF 10000|2018 \n",
    "|Blue|CHF 10000|2017 \n",
    "|Blue|CHF 20000|2019 \n",
    "|Blue|CHF 20000|2018 \n",
    "|Blue|CHF 20000|2017 \n",
    "|Blue|CHF 30000|2019\n",
    "|Blue|CHF 30000|2018\n",
    "|Blue|CHF 30000|2017"
   ]
  },
  {
   "cell_type": "markdown",
   "metadata": {},
   "source": [
    "|Color|Weather|Price| \n",
    "|---|---|---| \n",
    "|Red|CHF 10000|Sunny|\n",
    "|Green|CHF 20000|Rain|\n",
    "|Blue|CHF 30000|Cloudy|"
   ]
  },
  {
   "cell_type": "code",
   "execution_count": null,
   "metadata": {},
   "outputs": [],
   "source": []
  }
 ],
 "metadata": {
  "kernelspec": {
   "display_name": "Python 3",
   "language": "python",
   "name": "python3"
  },
  "language_info": {
   "codemirror_mode": {
    "name": "ipython",
    "version": 3
   },
   "file_extension": ".py",
   "mimetype": "text/x-python",
   "name": "python",
   "nbconvert_exporter": "python",
   "pygments_lexer": "ipython3",
   "version": "3.6.8"
  }
 },
 "nbformat": 4,
 "nbformat_minor": 2
}
